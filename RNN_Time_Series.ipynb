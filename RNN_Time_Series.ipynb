{
  "nbformat": 4,
  "nbformat_minor": 0,
  "metadata": {
    "colab": {
      "provenance": [],
      "include_colab_link": true
    },
    "kernelspec": {
      "name": "python3",
      "display_name": "Python 3"
    },
    "language_info": {
      "name": "python"
    }
  },
  "cells": [
    {
      "cell_type": "markdown",
      "metadata": {
        "id": "view-in-github",
        "colab_type": "text"
      },
      "source": [
        "<a href=\"https://colab.research.google.com/github/Priyadarshini-yadav13/Time_Series/blob/main/RNN_Time_Series.ipynb\" target=\"_parent\"><img src=\"https://colab.research.google.com/assets/colab-badge.svg\" alt=\"Open In Colab\"/></a>"
      ]
    },
    {
      "cell_type": "markdown",
      "source": [
        "# Importing Necessary Libraries"
      ],
      "metadata": {
        "id": "VFg3ykYtOe4a"
      }
    },
    {
      "cell_type": "code",
      "execution_count": null,
      "metadata": {
        "id": "C7Mk-OuCN0dS"
      },
      "outputs": [],
      "source": [
        "import numpy as np\n",
        "import pandas as pd\n",
        "import matplotlib.pyplot as plt\n",
        "\n",
        "from sklearn.preprocessing import MinMaxScaler\n",
        "from keras.models import Sequential\n",
        "from keras.layers import SimpleRNN, Dense, Dropout"
      ]
    },
    {
      "cell_type": "markdown",
      "source": [
        "# Read Data"
      ],
      "metadata": {
        "id": "41LsXEyJOpTp"
      }
    },
    {
      "cell_type": "code",
      "source": [
        "# ✅ Step 2: Load Dataset\n",
        "url = \"https://raw.githubusercontent.com/jbrownlee/Datasets/master/airline-passengers.csv\"\n",
        "df = pd.read_csv(url, parse_dates=['Month'], index_col='Month')"
      ],
      "metadata": {
        "id": "QaugR2prOg-L"
      },
      "execution_count": null,
      "outputs": []
    },
    {
      "cell_type": "code",
      "source": [
        "df"
      ],
      "metadata": {
        "colab": {
          "base_uri": "https://localhost:8080/",
          "height": 455
        },
        "id": "eeR-acOoTQWx",
        "outputId": "fd560421-7ff9-40e6-b2a8-c6e5f2021517"
      },
      "execution_count": null,
      "outputs": [
        {
          "output_type": "execute_result",
          "data": {
            "text/plain": [
              "            Passengers\n",
              "Month                 \n",
              "1949-01-01         112\n",
              "1949-02-01         118\n",
              "1949-03-01         132\n",
              "1949-04-01         129\n",
              "1949-05-01         121\n",
              "...                ...\n",
              "1960-08-01         606\n",
              "1960-09-01         508\n",
              "1960-10-01         461\n",
              "1960-11-01         390\n",
              "1960-12-01         432\n",
              "\n",
              "[144 rows x 1 columns]"
            ],
            "text/html": [
              "\n",
              "  <div id=\"df-7981cdc3-4754-4cbf-b6cd-e9afdd6ed992\" class=\"colab-df-container\">\n",
              "    <div>\n",
              "<style scoped>\n",
              "    .dataframe tbody tr th:only-of-type {\n",
              "        vertical-align: middle;\n",
              "    }\n",
              "\n",
              "    .dataframe tbody tr th {\n",
              "        vertical-align: top;\n",
              "    }\n",
              "\n",
              "    .dataframe thead th {\n",
              "        text-align: right;\n",
              "    }\n",
              "</style>\n",
              "<table border=\"1\" class=\"dataframe\">\n",
              "  <thead>\n",
              "    <tr style=\"text-align: right;\">\n",
              "      <th></th>\n",
              "      <th>Passengers</th>\n",
              "    </tr>\n",
              "    <tr>\n",
              "      <th>Month</th>\n",
              "      <th></th>\n",
              "    </tr>\n",
              "  </thead>\n",
              "  <tbody>\n",
              "    <tr>\n",
              "      <th>1949-01-01</th>\n",
              "      <td>112</td>\n",
              "    </tr>\n",
              "    <tr>\n",
              "      <th>1949-02-01</th>\n",
              "      <td>118</td>\n",
              "    </tr>\n",
              "    <tr>\n",
              "      <th>1949-03-01</th>\n",
              "      <td>132</td>\n",
              "    </tr>\n",
              "    <tr>\n",
              "      <th>1949-04-01</th>\n",
              "      <td>129</td>\n",
              "    </tr>\n",
              "    <tr>\n",
              "      <th>1949-05-01</th>\n",
              "      <td>121</td>\n",
              "    </tr>\n",
              "    <tr>\n",
              "      <th>...</th>\n",
              "      <td>...</td>\n",
              "    </tr>\n",
              "    <tr>\n",
              "      <th>1960-08-01</th>\n",
              "      <td>606</td>\n",
              "    </tr>\n",
              "    <tr>\n",
              "      <th>1960-09-01</th>\n",
              "      <td>508</td>\n",
              "    </tr>\n",
              "    <tr>\n",
              "      <th>1960-10-01</th>\n",
              "      <td>461</td>\n",
              "    </tr>\n",
              "    <tr>\n",
              "      <th>1960-11-01</th>\n",
              "      <td>390</td>\n",
              "    </tr>\n",
              "    <tr>\n",
              "      <th>1960-12-01</th>\n",
              "      <td>432</td>\n",
              "    </tr>\n",
              "  </tbody>\n",
              "</table>\n",
              "<p>144 rows × 1 columns</p>\n",
              "</div>\n",
              "    <div class=\"colab-df-buttons\">\n",
              "\n",
              "  <div class=\"colab-df-container\">\n",
              "    <button class=\"colab-df-convert\" onclick=\"convertToInteractive('df-7981cdc3-4754-4cbf-b6cd-e9afdd6ed992')\"\n",
              "            title=\"Convert this dataframe to an interactive table.\"\n",
              "            style=\"display:none;\">\n",
              "\n",
              "  <svg xmlns=\"http://www.w3.org/2000/svg\" height=\"24px\" viewBox=\"0 -960 960 960\">\n",
              "    <path d=\"M120-120v-720h720v720H120Zm60-500h600v-160H180v160Zm220 220h160v-160H400v160Zm0 220h160v-160H400v160ZM180-400h160v-160H180v160Zm440 0h160v-160H620v160ZM180-180h160v-160H180v160Zm440 0h160v-160H620v160Z\"/>\n",
              "  </svg>\n",
              "    </button>\n",
              "\n",
              "  <style>\n",
              "    .colab-df-container {\n",
              "      display:flex;\n",
              "      gap: 12px;\n",
              "    }\n",
              "\n",
              "    .colab-df-convert {\n",
              "      background-color: #E8F0FE;\n",
              "      border: none;\n",
              "      border-radius: 50%;\n",
              "      cursor: pointer;\n",
              "      display: none;\n",
              "      fill: #1967D2;\n",
              "      height: 32px;\n",
              "      padding: 0 0 0 0;\n",
              "      width: 32px;\n",
              "    }\n",
              "\n",
              "    .colab-df-convert:hover {\n",
              "      background-color: #E2EBFA;\n",
              "      box-shadow: 0px 1px 2px rgba(60, 64, 67, 0.3), 0px 1px 3px 1px rgba(60, 64, 67, 0.15);\n",
              "      fill: #174EA6;\n",
              "    }\n",
              "\n",
              "    .colab-df-buttons div {\n",
              "      margin-bottom: 4px;\n",
              "    }\n",
              "\n",
              "    [theme=dark] .colab-df-convert {\n",
              "      background-color: #3B4455;\n",
              "      fill: #D2E3FC;\n",
              "    }\n",
              "\n",
              "    [theme=dark] .colab-df-convert:hover {\n",
              "      background-color: #434B5C;\n",
              "      box-shadow: 0px 1px 3px 1px rgba(0, 0, 0, 0.15);\n",
              "      filter: drop-shadow(0px 1px 2px rgba(0, 0, 0, 0.3));\n",
              "      fill: #FFFFFF;\n",
              "    }\n",
              "  </style>\n",
              "\n",
              "    <script>\n",
              "      const buttonEl =\n",
              "        document.querySelector('#df-7981cdc3-4754-4cbf-b6cd-e9afdd6ed992 button.colab-df-convert');\n",
              "      buttonEl.style.display =\n",
              "        google.colab.kernel.accessAllowed ? 'block' : 'none';\n",
              "\n",
              "      async function convertToInteractive(key) {\n",
              "        const element = document.querySelector('#df-7981cdc3-4754-4cbf-b6cd-e9afdd6ed992');\n",
              "        const dataTable =\n",
              "          await google.colab.kernel.invokeFunction('convertToInteractive',\n",
              "                                                    [key], {});\n",
              "        if (!dataTable) return;\n",
              "\n",
              "        const docLinkHtml = 'Like what you see? Visit the ' +\n",
              "          '<a target=\"_blank\" href=https://colab.research.google.com/notebooks/data_table.ipynb>data table notebook</a>'\n",
              "          + ' to learn more about interactive tables.';\n",
              "        element.innerHTML = '';\n",
              "        dataTable['output_type'] = 'display_data';\n",
              "        await google.colab.output.renderOutput(dataTable, element);\n",
              "        const docLink = document.createElement('div');\n",
              "        docLink.innerHTML = docLinkHtml;\n",
              "        element.appendChild(docLink);\n",
              "      }\n",
              "    </script>\n",
              "  </div>\n",
              "\n",
              "\n",
              "    <div id=\"df-88dd0eee-1375-4236-8fe5-999bedda4497\">\n",
              "      <button class=\"colab-df-quickchart\" onclick=\"quickchart('df-88dd0eee-1375-4236-8fe5-999bedda4497')\"\n",
              "                title=\"Suggest charts\"\n",
              "                style=\"display:none;\">\n",
              "\n",
              "<svg xmlns=\"http://www.w3.org/2000/svg\" height=\"24px\"viewBox=\"0 0 24 24\"\n",
              "     width=\"24px\">\n",
              "    <g>\n",
              "        <path d=\"M19 3H5c-1.1 0-2 .9-2 2v14c0 1.1.9 2 2 2h14c1.1 0 2-.9 2-2V5c0-1.1-.9-2-2-2zM9 17H7v-7h2v7zm4 0h-2V7h2v10zm4 0h-2v-4h2v4z\"/>\n",
              "    </g>\n",
              "</svg>\n",
              "      </button>\n",
              "\n",
              "<style>\n",
              "  .colab-df-quickchart {\n",
              "      --bg-color: #E8F0FE;\n",
              "      --fill-color: #1967D2;\n",
              "      --hover-bg-color: #E2EBFA;\n",
              "      --hover-fill-color: #174EA6;\n",
              "      --disabled-fill-color: #AAA;\n",
              "      --disabled-bg-color: #DDD;\n",
              "  }\n",
              "\n",
              "  [theme=dark] .colab-df-quickchart {\n",
              "      --bg-color: #3B4455;\n",
              "      --fill-color: #D2E3FC;\n",
              "      --hover-bg-color: #434B5C;\n",
              "      --hover-fill-color: #FFFFFF;\n",
              "      --disabled-bg-color: #3B4455;\n",
              "      --disabled-fill-color: #666;\n",
              "  }\n",
              "\n",
              "  .colab-df-quickchart {\n",
              "    background-color: var(--bg-color);\n",
              "    border: none;\n",
              "    border-radius: 50%;\n",
              "    cursor: pointer;\n",
              "    display: none;\n",
              "    fill: var(--fill-color);\n",
              "    height: 32px;\n",
              "    padding: 0;\n",
              "    width: 32px;\n",
              "  }\n",
              "\n",
              "  .colab-df-quickchart:hover {\n",
              "    background-color: var(--hover-bg-color);\n",
              "    box-shadow: 0 1px 2px rgba(60, 64, 67, 0.3), 0 1px 3px 1px rgba(60, 64, 67, 0.15);\n",
              "    fill: var(--button-hover-fill-color);\n",
              "  }\n",
              "\n",
              "  .colab-df-quickchart-complete:disabled,\n",
              "  .colab-df-quickchart-complete:disabled:hover {\n",
              "    background-color: var(--disabled-bg-color);\n",
              "    fill: var(--disabled-fill-color);\n",
              "    box-shadow: none;\n",
              "  }\n",
              "\n",
              "  .colab-df-spinner {\n",
              "    border: 2px solid var(--fill-color);\n",
              "    border-color: transparent;\n",
              "    border-bottom-color: var(--fill-color);\n",
              "    animation:\n",
              "      spin 1s steps(1) infinite;\n",
              "  }\n",
              "\n",
              "  @keyframes spin {\n",
              "    0% {\n",
              "      border-color: transparent;\n",
              "      border-bottom-color: var(--fill-color);\n",
              "      border-left-color: var(--fill-color);\n",
              "    }\n",
              "    20% {\n",
              "      border-color: transparent;\n",
              "      border-left-color: var(--fill-color);\n",
              "      border-top-color: var(--fill-color);\n",
              "    }\n",
              "    30% {\n",
              "      border-color: transparent;\n",
              "      border-left-color: var(--fill-color);\n",
              "      border-top-color: var(--fill-color);\n",
              "      border-right-color: var(--fill-color);\n",
              "    }\n",
              "    40% {\n",
              "      border-color: transparent;\n",
              "      border-right-color: var(--fill-color);\n",
              "      border-top-color: var(--fill-color);\n",
              "    }\n",
              "    60% {\n",
              "      border-color: transparent;\n",
              "      border-right-color: var(--fill-color);\n",
              "    }\n",
              "    80% {\n",
              "      border-color: transparent;\n",
              "      border-right-color: var(--fill-color);\n",
              "      border-bottom-color: var(--fill-color);\n",
              "    }\n",
              "    90% {\n",
              "      border-color: transparent;\n",
              "      border-bottom-color: var(--fill-color);\n",
              "    }\n",
              "  }\n",
              "</style>\n",
              "\n",
              "      <script>\n",
              "        async function quickchart(key) {\n",
              "          const quickchartButtonEl =\n",
              "            document.querySelector('#' + key + ' button');\n",
              "          quickchartButtonEl.disabled = true;  // To prevent multiple clicks.\n",
              "          quickchartButtonEl.classList.add('colab-df-spinner');\n",
              "          try {\n",
              "            const charts = await google.colab.kernel.invokeFunction(\n",
              "                'suggestCharts', [key], {});\n",
              "          } catch (error) {\n",
              "            console.error('Error during call to suggestCharts:', error);\n",
              "          }\n",
              "          quickchartButtonEl.classList.remove('colab-df-spinner');\n",
              "          quickchartButtonEl.classList.add('colab-df-quickchart-complete');\n",
              "        }\n",
              "        (() => {\n",
              "          let quickchartButtonEl =\n",
              "            document.querySelector('#df-88dd0eee-1375-4236-8fe5-999bedda4497 button');\n",
              "          quickchartButtonEl.style.display =\n",
              "            google.colab.kernel.accessAllowed ? 'block' : 'none';\n",
              "        })();\n",
              "      </script>\n",
              "    </div>\n",
              "\n",
              "  <div id=\"id_5511e7fe-dd61-4c94-89e5-d72f5840e342\">\n",
              "    <style>\n",
              "      .colab-df-generate {\n",
              "        background-color: #E8F0FE;\n",
              "        border: none;\n",
              "        border-radius: 50%;\n",
              "        cursor: pointer;\n",
              "        display: none;\n",
              "        fill: #1967D2;\n",
              "        height: 32px;\n",
              "        padding: 0 0 0 0;\n",
              "        width: 32px;\n",
              "      }\n",
              "\n",
              "      .colab-df-generate:hover {\n",
              "        background-color: #E2EBFA;\n",
              "        box-shadow: 0px 1px 2px rgba(60, 64, 67, 0.3), 0px 1px 3px 1px rgba(60, 64, 67, 0.15);\n",
              "        fill: #174EA6;\n",
              "      }\n",
              "\n",
              "      [theme=dark] .colab-df-generate {\n",
              "        background-color: #3B4455;\n",
              "        fill: #D2E3FC;\n",
              "      }\n",
              "\n",
              "      [theme=dark] .colab-df-generate:hover {\n",
              "        background-color: #434B5C;\n",
              "        box-shadow: 0px 1px 3px 1px rgba(0, 0, 0, 0.15);\n",
              "        filter: drop-shadow(0px 1px 2px rgba(0, 0, 0, 0.3));\n",
              "        fill: #FFFFFF;\n",
              "      }\n",
              "    </style>\n",
              "    <button class=\"colab-df-generate\" onclick=\"generateWithVariable('df')\"\n",
              "            title=\"Generate code using this dataframe.\"\n",
              "            style=\"display:none;\">\n",
              "\n",
              "  <svg xmlns=\"http://www.w3.org/2000/svg\" height=\"24px\"viewBox=\"0 0 24 24\"\n",
              "       width=\"24px\">\n",
              "    <path d=\"M7,19H8.4L18.45,9,17,7.55,7,17.6ZM5,21V16.75L18.45,3.32a2,2,0,0,1,2.83,0l1.4,1.43a1.91,1.91,0,0,1,.58,1.4,1.91,1.91,0,0,1-.58,1.4L9.25,21ZM18.45,9,17,7.55Zm-12,3A5.31,5.31,0,0,0,4.9,8.1,5.31,5.31,0,0,0,1,6.5,5.31,5.31,0,0,0,4.9,4.9,5.31,5.31,0,0,0,6.5,1,5.31,5.31,0,0,0,8.1,4.9,5.31,5.31,0,0,0,12,6.5,5.46,5.46,0,0,0,6.5,12Z\"/>\n",
              "  </svg>\n",
              "    </button>\n",
              "    <script>\n",
              "      (() => {\n",
              "      const buttonEl =\n",
              "        document.querySelector('#id_5511e7fe-dd61-4c94-89e5-d72f5840e342 button.colab-df-generate');\n",
              "      buttonEl.style.display =\n",
              "        google.colab.kernel.accessAllowed ? 'block' : 'none';\n",
              "\n",
              "      buttonEl.onclick = () => {\n",
              "        google.colab.notebook.generateWithVariable('df');\n",
              "      }\n",
              "      })();\n",
              "    </script>\n",
              "  </div>\n",
              "\n",
              "    </div>\n",
              "  </div>\n"
            ],
            "application/vnd.google.colaboratory.intrinsic+json": {
              "type": "dataframe",
              "variable_name": "df",
              "summary": "{\n  \"name\": \"df\",\n  \"rows\": 144,\n  \"fields\": [\n    {\n      \"column\": \"Month\",\n      \"properties\": {\n        \"dtype\": \"date\",\n        \"min\": \"1949-01-01 00:00:00\",\n        \"max\": \"1960-12-01 00:00:00\",\n        \"num_unique_values\": 144,\n        \"samples\": [\n          \"1958-10-01 00:00:00\",\n          \"1950-08-01 00:00:00\",\n          \"1955-11-01 00:00:00\"\n        ],\n        \"semantic_type\": \"\",\n        \"description\": \"\"\n      }\n    },\n    {\n      \"column\": \"Passengers\",\n      \"properties\": {\n        \"dtype\": \"number\",\n        \"std\": 119,\n        \"min\": 104,\n        \"max\": 622,\n        \"num_unique_values\": 118,\n        \"samples\": [\n          293,\n          340,\n          121\n        ],\n        \"semantic_type\": \"\",\n        \"description\": \"\"\n      }\n    }\n  ]\n}"
            }
          },
          "metadata": {},
          "execution_count": 3
        }
      ]
    },
    {
      "cell_type": "markdown",
      "source": [
        "# Summarize the Dataset"
      ],
      "metadata": {
        "id": "BQ0VtNX4O8p6"
      }
    },
    {
      "cell_type": "code",
      "source": [
        "df.shape"
      ],
      "metadata": {
        "colab": {
          "base_uri": "https://localhost:8080/"
        },
        "id": "Or-Tx9u0O7kq",
        "outputId": "d3bd54fa-54da-431c-dc32-3ebeed21f8b6"
      },
      "execution_count": null,
      "outputs": [
        {
          "output_type": "execute_result",
          "data": {
            "text/plain": [
              "(144, 1)"
            ]
          },
          "metadata": {},
          "execution_count": 4
        }
      ]
    },
    {
      "cell_type": "code",
      "source": [
        "df.dtypes"
      ],
      "metadata": {
        "colab": {
          "base_uri": "https://localhost:8080/",
          "height": 115
        },
        "id": "VOh2z24EO_Yh",
        "outputId": "898bc603-7982-4cdc-a688-357f67741527"
      },
      "execution_count": null,
      "outputs": [
        {
          "output_type": "execute_result",
          "data": {
            "text/plain": [
              "Passengers    int64\n",
              "dtype: object"
            ],
            "text/html": [
              "<div>\n",
              "<style scoped>\n",
              "    .dataframe tbody tr th:only-of-type {\n",
              "        vertical-align: middle;\n",
              "    }\n",
              "\n",
              "    .dataframe tbody tr th {\n",
              "        vertical-align: top;\n",
              "    }\n",
              "\n",
              "    .dataframe thead th {\n",
              "        text-align: right;\n",
              "    }\n",
              "</style>\n",
              "<table border=\"1\" class=\"dataframe\">\n",
              "  <thead>\n",
              "    <tr style=\"text-align: right;\">\n",
              "      <th></th>\n",
              "      <th>0</th>\n",
              "    </tr>\n",
              "  </thead>\n",
              "  <tbody>\n",
              "    <tr>\n",
              "      <th>Passengers</th>\n",
              "      <td>int64</td>\n",
              "    </tr>\n",
              "  </tbody>\n",
              "</table>\n",
              "</div><br><label><b>dtype:</b> object</label>"
            ]
          },
          "metadata": {},
          "execution_count": 5
        }
      ]
    },
    {
      "cell_type": "markdown",
      "source": [
        "# Performing EDA"
      ],
      "metadata": {
        "id": "7jvnao_JPBch"
      }
    },
    {
      "cell_type": "code",
      "source": [
        "df.isnull().sum()"
      ],
      "metadata": {
        "colab": {
          "base_uri": "https://localhost:8080/",
          "height": 115
        },
        "id": "cx_eHwFwPAVR",
        "outputId": "385f0268-047a-40e6-bd85-5f7df574e01f"
      },
      "execution_count": null,
      "outputs": [
        {
          "output_type": "execute_result",
          "data": {
            "text/plain": [
              "Passengers    0\n",
              "dtype: int64"
            ],
            "text/html": [
              "<div>\n",
              "<style scoped>\n",
              "    .dataframe tbody tr th:only-of-type {\n",
              "        vertical-align: middle;\n",
              "    }\n",
              "\n",
              "    .dataframe tbody tr th {\n",
              "        vertical-align: top;\n",
              "    }\n",
              "\n",
              "    .dataframe thead th {\n",
              "        text-align: right;\n",
              "    }\n",
              "</style>\n",
              "<table border=\"1\" class=\"dataframe\">\n",
              "  <thead>\n",
              "    <tr style=\"text-align: right;\">\n",
              "      <th></th>\n",
              "      <th>0</th>\n",
              "    </tr>\n",
              "  </thead>\n",
              "  <tbody>\n",
              "    <tr>\n",
              "      <th>Passengers</th>\n",
              "      <td>0</td>\n",
              "    </tr>\n",
              "  </tbody>\n",
              "</table>\n",
              "</div><br><label><b>dtype:</b> int64</label>"
            ]
          },
          "metadata": {},
          "execution_count": 6
        }
      ]
    },
    {
      "cell_type": "markdown",
      "source": [
        "# Plot Your Data"
      ],
      "metadata": {
        "id": "G1_uAH3xPFmh"
      }
    },
    {
      "cell_type": "code",
      "source": [
        "plt.figure(figsize=(10, 4))\n",
        "plt.plot(df, label='Monthly Passengers')\n",
        "plt.title(\"Monthly International Airline Passengers\")\n",
        "plt.xlabel(\"Year\")\n",
        "plt.ylabel(\"Number of Passengers\")\n",
        "plt.grid()\n",
        "plt.legend()\n",
        "plt.show()"
      ],
      "metadata": {
        "colab": {
          "base_uri": "https://localhost:8080/",
          "height": 410
        },
        "id": "uR5F8WrvPDT6",
        "outputId": "53d20904-a492-42fa-e519-06cf3424f939"
      },
      "execution_count": null,
      "outputs": [
        {
          "output_type": "display_data",
          "data": {
            "text/plain": [
              "<Figure size 1000x400 with 1 Axes>"
            ],
            "image/png": "[encoded data removed]"
          },
          "metadata": {}
        }
      ]
    },
    {
      "cell_type": "markdown",
      "source": [
        "# Scale Dataset"
      ],
      "metadata": {
        "id": "BMhyIrt3TqJY"
      }
    },
    {
      "cell_type": "code",
      "source": [
        "df"
      ],
      "metadata": {
        "colab": {
          "base_uri": "https://localhost:8080/",
          "height": 455
        },
        "id": "BLk51_xmTuJh",
        "outputId": "77c10903-b831-4f68-c129-0b49b8041810"
      },
      "execution_count": null,
      "outputs": [
        {
          "output_type": "execute_result",
          "data": {
            "text/plain": [
              "            Passengers\n",
              "Month                 \n",
              "1949-01-01         112\n",
              "1949-02-01         118\n",
              "1949-03-01         132\n",
              "1949-04-01         129\n",
              "1949-05-01         121\n",
              "...                ...\n",
              "1960-08-01         606\n",
              "1960-09-01         508\n",
              "1960-10-01         461\n",
              "1960-11-01         390\n",
              "1960-12-01         432\n",
              "\n",
              "[144 rows x 1 columns]"
            ],
            "text/html": [
              "\n",
              "  <div id=\"df-b2edb623-d8dd-4914-b37c-08de619a5528\" class=\"colab-df-container\">\n",
              "    <div>\n",
              "<style scoped>\n",
              "    .dataframe tbody tr th:only-of-type {\n",
              "        vertical-align: middle;\n",
              "    }\n",
              "\n",
              "    .dataframe tbody tr th {\n",
              "        vertical-align: top;\n",
              "    }\n",
              "\n",
              "    .dataframe thead th {\n",
              "        text-align: right;\n",
              "    }\n",
              "</style>\n",
              "<table border=\"1\" class=\"dataframe\">\n",
              "  <thead>\n",
              "    <tr style=\"text-align: right;\">\n",
              "      <th></th>\n",
              "      <th>Passengers</th>\n",
              "    </tr>\n",
              "    <tr>\n",
              "      <th>Month</th>\n",
              "      <th></th>\n",
              "    </tr>\n",
              "  </thead>\n",
              "  <tbody>\n",
              "    <tr>\n",
              "      <th>1949-01-01</th>\n",
              "      <td>112</td>\n",
              "    </tr>\n",
              "    <tr>\n",
              "      <th>1949-02-01</th>\n",
              "      <td>118</td>\n",
              "    </tr>\n",
              "    <tr>\n",
              "      <th>1949-03-01</th>\n",
              "      <td>132</td>\n",
              "    </tr>\n",
              "    <tr>\n",
              "      <th>1949-04-01</th>\n",
              "      <td>129</td>\n",
              "    </tr>\n",
              "    <tr>\n",
              "      <th>1949-05-01</th>\n",
              "      <td>121</td>\n",
              "    </tr>\n",
              "    <tr>\n",
              "      <th>...</th>\n",
              "      <td>...</td>\n",
              "    </tr>\n",
              "    <tr>\n",
              "      <th>1960-08-01</th>\n",
              "      <td>606</td>\n",
              "    </tr>\n",
              "    <tr>\n",
              "      <th>1960-09-01</th>\n",
              "      <td>508</td>\n",
              "    </tr>\n",
              "    <tr>\n",
              "      <th>1960-10-01</th>\n",
              "      <td>461</td>\n",
              "    </tr>\n",
              "    <tr>\n",
              "      <th>1960-11-01</th>\n",
              "      <td>390</td>\n",
              "    </tr>\n",
              "    <tr>\n",
              "      <th>1960-12-01</th>\n",
              "      <td>432</td>\n",
              "    </tr>\n",
              "  </tbody>\n",
              "</table>\n",
              "<p>144 rows × 1 columns</p>\n",
              "</div>\n",
              "    <div class=\"colab-df-buttons\">\n",
              "\n",
              "  <div class=\"colab-df-container\">\n",
              "    <button class=\"colab-df-convert\" onclick=\"convertToInteractive('df-b2edb623-d8dd-4914-b37c-08de619a5528')\"\n",
              "            title=\"Convert this dataframe to an interactive table.\"\n",
              "            style=\"display:none;\">\n",
              "\n",
              "  <svg xmlns=\"http://www.w3.org/2000/svg\" height=\"24px\" viewBox=\"0 -960 960 960\">\n",
              "    <path d=\"M120-120v-720h720v720H120Zm60-500h600v-160H180v160Zm220 220h160v-160H400v160Zm0 220h160v-160H400v160ZM180-400h160v-160H180v160Zm440 0h160v-160H620v160ZM180-180h160v-160H180v160Zm440 0h160v-160H620v160Z\"/>\n",
              "  </svg>\n",
              "    </button>\n",
              "\n",
              "  <style>\n",
              "    .colab-df-container {\n",
              "      display:flex;\n",
              "      gap: 12px;\n",
              "    }\n",
              "\n",
              "    .colab-df-convert {\n",
              "      background-color: #E8F0FE;\n",
              "      border: none;\n",
              "      border-radius: 50%;\n",
              "      cursor: pointer;\n",
              "      display: none;\n",
              "      fill: #1967D2;\n",
              "      height: 32px;\n",
              "      padding: 0 0 0 0;\n",
              "      width: 32px;\n",
              "    }\n",
              "\n",
              "    .colab-df-convert:hover {\n",
              "      background-color: #E2EBFA;\n",
              "      box-shadow: 0px 1px 2px rgba(60, 64, 67, 0.3), 0px 1px 3px 1px rgba(60, 64, 67, 0.15);\n",
              "      fill: #174EA6;\n",
              "    }\n",
              "\n",
              "    .colab-df-buttons div {\n",
              "      margin-bottom: 4px;\n",
              "    }\n",
              "\n",
              "    [theme=dark] .colab-df-convert {\n",
              "      background-color: #3B4455;\n",
              "      fill: #D2E3FC;\n",
              "    }\n",
              "\n",
              "    [theme=dark] .colab-df-convert:hover {\n",
              "      background-color: #434B5C;\n",
              "      box-shadow: 0px 1px 3px 1px rgba(0, 0, 0, 0.15);\n",
              "      filter: drop-shadow(0px 1px 2px rgba(0, 0, 0, 0.3));\n",
              "      fill: #FFFFFF;\n",
              "    }\n",
              "  </style>\n",
              "\n",
              "    <script>\n",
              "      const buttonEl =\n",
              "        document.querySelector('#df-b2edb623-d8dd-4914-b37c-08de619a5528 button.colab-df-convert');\n",
              "      buttonEl.style.display =\n",
              "        google.colab.kernel.accessAllowed ? 'block' : 'none';\n",
              "\n",
              "      async function convertToInteractive(key) {\n",
              "        const element = document.querySelector('#df-b2edb623-d8dd-4914-b37c-08de619a5528');\n",
              "        const dataTable =\n",
              "          await google.colab.kernel.invokeFunction('convertToInteractive',\n",
              "                                                    [key], {});\n",
              "        if (!dataTable) return;\n",
              "\n",
              "        const docLinkHtml = 'Like what you see? Visit the ' +\n",
              "          '<a target=\"_blank\" href=https://colab.research.google.com/notebooks/data_table.ipynb>data table notebook</a>'\n",
              "          + ' to learn more about interactive tables.';\n",
              "        element.innerHTML = '';\n",
              "        dataTable['output_type'] = 'display_data';\n",
              "        await google.colab.output.renderOutput(dataTable, element);\n",
              "        const docLink = document.createElement('div');\n",
              "        docLink.innerHTML = docLinkHtml;\n",
              "        element.appendChild(docLink);\n",
              "      }\n",
              "    </script>\n",
              "  </div>\n",
              "\n",
              "\n",
              "    <div id=\"df-ec4d73cb-43d4-489c-964b-6aa028629fe1\">\n",
              "      <button class=\"colab-df-quickchart\" onclick=\"quickchart('df-ec4d73cb-43d4-489c-964b-6aa028629fe1')\"\n",
              "                title=\"Suggest charts\"\n",
              "                style=\"display:none;\">\n",
              "\n",
              "<svg xmlns=\"http://www.w3.org/2000/svg\" height=\"24px\"viewBox=\"0 0 24 24\"\n",
              "     width=\"24px\">\n",
              "    <g>\n",
              "        <path d=\"M19 3H5c-1.1 0-2 .9-2 2v14c0 1.1.9 2 2 2h14c1.1 0 2-.9 2-2V5c0-1.1-.9-2-2-2zM9 17H7v-7h2v7zm4 0h-2V7h2v10zm4 0h-2v-4h2v4z\"/>\n",
              "    </g>\n",
              "</svg>\n",
              "      </button>\n",
              "\n",
              "<style>\n",
              "  .colab-df-quickchart {\n",
              "      --bg-color: #E8F0FE;\n",
              "      --fill-color: #1967D2;\n",
              "      --hover-bg-color: #E2EBFA;\n",
              "      --hover-fill-color: #174EA6;\n",
              "      --disabled-fill-color: #AAA;\n",
              "      --disabled-bg-color: #DDD;\n",
              "  }\n",
              "\n",
              "  [theme=dark] .colab-df-quickchart {\n",
              "      --bg-color: #3B4455;\n",
              "      --fill-color: #D2E3FC;\n",
              "      --hover-bg-color: #434B5C;\n",
              "      --hover-fill-color: #FFFFFF;\n",
              "      --disabled-bg-color: #3B4455;\n",
              "      --disabled-fill-color: #666;\n",
              "  }\n",
              "\n",
              "  .colab-df-quickchart {\n",
              "    background-color: var(--bg-color);\n",
              "    border: none;\n",
              "    border-radius: 50%;\n",
              "    cursor: pointer;\n",
              "    display: none;\n",
              "    fill: var(--fill-color);\n",
              "    height: 32px;\n",
              "    padding: 0;\n",
              "    width: 32px;\n",
              "  }\n",
              "\n",
              "  .colab-df-quickchart:hover {\n",
              "    background-color: var(--hover-bg-color);\n",
              "    box-shadow: 0 1px 2px rgba(60, 64, 67, 0.3), 0 1px 3px 1px rgba(60, 64, 67, 0.15);\n",
              "    fill: var(--button-hover-fill-color);\n",
              "  }\n",
              "\n",
              "  .colab-df-quickchart-complete:disabled,\n",
              "  .colab-df-quickchart-complete:disabled:hover {\n",
              "    background-color: var(--disabled-bg-color);\n",
              "    fill: var(--disabled-fill-color);\n",
              "    box-shadow: none;\n",
              "  }\n",
              "\n",
              "  .colab-df-spinner {\n",
              "    border: 2px solid var(--fill-color);\n",
              "    border-color: transparent;\n",
              "    border-bottom-color: var(--fill-color);\n",
              "    animation:\n",
              "      spin 1s steps(1) infinite;\n",
              "  }\n",
              "\n",
              "  @keyframes spin {\n",
              "    0% {\n",
              "      border-color: transparent;\n",
              "      border-bottom-color: var(--fill-color);\n",
              "      border-left-color: var(--fill-color);\n",
              "    }\n",
              "    20% {\n",
              "      border-color: transparent;\n",
              "      border-left-color: var(--fill-color);\n",
              "      border-top-color: var(--fill-color);\n",
              "    }\n",
              "    30% {\n",
              "      border-color: transparent;\n",
              "      border-left-color: var(--fill-color);\n",
              "      border-top-color: var(--fill-color);\n",
              "      border-right-color: var(--fill-color);\n",
              "    }\n",
              "    40% {\n",
              "      border-color: transparent;\n",
              "      border-right-color: var(--fill-color);\n",
              "      border-top-color: var(--fill-color);\n",
              "    }\n",
              "    60% {\n",
              "      border-color: transparent;\n",
              "      border-right-color: var(--fill-color);\n",
              "    }\n",
              "    80% {\n",
              "      border-color: transparent;\n",
              "      border-right-color: var(--fill-color);\n",
              "      border-bottom-color: var(--fill-color);\n",
              "    }\n",
              "    90% {\n",
              "      border-color: transparent;\n",
              "      border-bottom-color: var(--fill-color);\n",
              "    }\n",
              "  }\n",
              "</style>\n",
              "\n",
              "      <script>\n",
              "        async function quickchart(key) {\n",
              "          const quickchartButtonEl =\n",
              "            document.querySelector('#' + key + ' button');\n",
              "          quickchartButtonEl.disabled = true;  // To prevent multiple clicks.\n",
              "          quickchartButtonEl.classList.add('colab-df-spinner');\n",
              "          try {\n",
              "            const charts = await google.colab.kernel.invokeFunction(\n",
              "                'suggestCharts', [key], {});\n",
              "          } catch (error) {\n",
              "            console.error('Error during call to suggestCharts:', error);\n",
              "          }\n",
              "          quickchartButtonEl.classList.remove('colab-df-spinner');\n",
              "          quickchartButtonEl.classList.add('colab-df-quickchart-complete');\n",
              "        }\n",
              "        (() => {\n",
              "          let quickchartButtonEl =\n",
              "            document.querySelector('#df-ec4d73cb-43d4-489c-964b-6aa028629fe1 button');\n",
              "          quickchartButtonEl.style.display =\n",
              "            google.colab.kernel.accessAllowed ? 'block' : 'none';\n",
              "        })();\n",
              "      </script>\n",
              "    </div>\n",
              "\n",
              "  <div id=\"id_9b6117dd-d94b-44e1-9e7d-83b357034b4b\">\n",
              "    <style>\n",
              "      .colab-df-generate {\n",
              "        background-color: #E8F0FE;\n",
              "        border: none;\n",
              "        border-radius: 50%;\n",
              "        cursor: pointer;\n",
              "        display: none;\n",
              "        fill: #1967D2;\n",
              "        height: 32px;\n",
              "        padding: 0 0 0 0;\n",
              "        width: 32px;\n",
              "      }\n",
              "\n",
              "      .colab-df-generate:hover {\n",
              "        background-color: #E2EBFA;\n",
              "        box-shadow: 0px 1px 2px rgba(60, 64, 67, 0.3), 0px 1px 3px 1px rgba(60, 64, 67, 0.15);\n",
              "        fill: #174EA6;\n",
              "      }\n",
              "\n",
              "      [theme=dark] .colab-df-generate {\n",
              "        background-color: #3B4455;\n",
              "        fill: #D2E3FC;\n",
              "      }\n",
              "\n",
              "      [theme=dark] .colab-df-generate:hover {\n",
              "        background-color: #434B5C;\n",
              "        box-shadow: 0px 1px 3px 1px rgba(0, 0, 0, 0.15);\n",
              "        filter: drop-shadow(0px 1px 2px rgba(0, 0, 0, 0.3));\n",
              "        fill: #FFFFFF;\n",
              "      }\n",
              "    </style>\n",
              "    <button class=\"colab-df-generate\" onclick=\"generateWithVariable('df')\"\n",
              "            title=\"Generate code using this dataframe.\"\n",
              "            style=\"display:none;\">\n",
              "\n",
              "  <svg xmlns=\"http://www.w3.org/2000/svg\" height=\"24px\"viewBox=\"0 0 24 24\"\n",
              "       width=\"24px\">\n",
              "    <path d=\"M7,19H8.4L18.45,9,17,7.55,7,17.6ZM5,21V16.75L18.45,3.32a2,2,0,0,1,2.83,0l1.4,1.43a1.91,1.91,0,0,1,.58,1.4,1.91,1.91,0,0,1-.58,1.4L9.25,21ZM18.45,9,17,7.55Zm-12,3A5.31,5.31,0,0,0,4.9,8.1,5.31,5.31,0,0,0,1,6.5,5.31,5.31,0,0,0,4.9,4.9,5.31,5.31,0,0,0,6.5,1,5.31,5.31,0,0,0,8.1,4.9,5.31,5.31,0,0,0,12,6.5,5.46,5.46,0,0,0,6.5,12Z\"/>\n",
              "  </svg>\n",
              "    </button>\n",
              "    <script>\n",
              "      (() => {\n",
              "      const buttonEl =\n",
              "        document.querySelector('#id_9b6117dd-d94b-44e1-9e7d-83b357034b4b button.colab-df-generate');\n",
              "      buttonEl.style.display =\n",
              "        google.colab.kernel.accessAllowed ? 'block' : 'none';\n",
              "\n",
              "      buttonEl.onclick = () => {\n",
              "        google.colab.notebook.generateWithVariable('df');\n",
              "      }\n",
              "      })();\n",
              "    </script>\n",
              "  </div>\n",
              "\n",
              "    </div>\n",
              "  </div>\n"
            ],
            "application/vnd.google.colaboratory.intrinsic+json": {
              "type": "dataframe",
              "variable_name": "df",
              "summary": "{\n  \"name\": \"df\",\n  \"rows\": 144,\n  \"fields\": [\n    {\n      \"column\": \"Month\",\n      \"properties\": {\n        \"dtype\": \"date\",\n        \"min\": \"1949-01-01 00:00:00\",\n        \"max\": \"1960-12-01 00:00:00\",\n        \"num_unique_values\": 144,\n        \"samples\": [\n          \"1958-10-01 00:00:00\",\n          \"1950-08-01 00:00:00\",\n          \"1955-11-01 00:00:00\"\n        ],\n        \"semantic_type\": \"\",\n        \"description\": \"\"\n      }\n    },\n    {\n      \"column\": \"Passengers\",\n      \"properties\": {\n        \"dtype\": \"number\",\n        \"std\": 119,\n        \"min\": 104,\n        \"max\": 622,\n        \"num_unique_values\": 118,\n        \"samples\": [\n          293,\n          340,\n          121\n        ],\n        \"semantic_type\": \"\",\n        \"description\": \"\"\n      }\n    }\n  ]\n}"
            }
          },
          "metadata": {},
          "execution_count": 8
        }
      ]
    },
    {
      "cell_type": "code",
      "source": [
        "data = df.values\n",
        "sc = MinMaxScaler(feature_range=(0, 1))\n",
        "scaled_data = sc.fit_transform(data)"
      ],
      "metadata": {
        "id": "jWmGHqA3Tq4I"
      },
      "execution_count": null,
      "outputs": []
    },
    {
      "cell_type": "code",
      "source": [
        "scaled_data"
      ],
      "metadata": {
        "colab": {
          "base_uri": "https://localhost:8080/"
        },
        "id": "gRnOsDjBTtHx",
        "outputId": "699e7957-3bf7-4b92-fa41-f6d4b596007e"
      },
      "execution_count": null,
      "outputs": [
        {
          "output_type": "execute_result",
          "data": {
            "text/plain": [
              "array([[0.01544402],\n",
              "       [0.02702703],\n",
              "       [0.05405405],\n",
              "       [0.04826255],\n",
              "       [0.03281853],\n",
              "       [0.05984556],\n",
              "       [0.08494208],\n",
              "       [0.08494208],\n",
              "       [0.06177606],\n",
              "       [0.02895753],\n",
              "       [0.        ],\n",
              "       [0.02702703],\n",
              "       [0.02123552],\n",
              "       [0.04247104],\n",
              "       [0.07142857],\n",
              "       [0.05984556],\n",
              "       [0.04054054],\n",
              "       [0.08687259],\n",
              "       [0.12741313],\n",
              "       [0.12741313],\n",
              "       [0.1042471 ],\n",
              "       [0.05598456],\n",
              "       [0.01930502],\n",
              "       [0.06949807],\n",
              "       [0.07915058],\n",
              "       [0.08880309],\n",
              "       [0.14285714],\n",
              "       [0.11389961],\n",
              "       [0.13127413],\n",
              "       [0.14285714],\n",
              "       [0.18339768],\n",
              "       [0.18339768],\n",
              "       [0.15444015],\n",
              "       [0.11196911],\n",
              "       [0.08108108],\n",
              "       [0.11969112],\n",
              "       [0.12934363],\n",
              "       [0.14671815],\n",
              "       [0.17181467],\n",
              "       [0.14864865],\n",
              "       [0.15250965],\n",
              "       [0.22007722],\n",
              "       [0.24324324],\n",
              "       [0.26640927],\n",
              "       [0.2027027 ],\n",
              "       [0.16795367],\n",
              "       [0.13127413],\n",
              "       [0.17374517],\n",
              "       [0.17760618],\n",
              "       [0.17760618],\n",
              "       [0.25482625],\n",
              "       [0.25289575],\n",
              "       [0.24131274],\n",
              "       [0.26833977],\n",
              "       [0.30888031],\n",
              "       [0.32432432],\n",
              "       [0.25675676],\n",
              "       [0.20656371],\n",
              "       [0.14671815],\n",
              "       [0.18725869],\n",
              "       [0.19305019],\n",
              "       [0.16216216],\n",
              "       [0.25289575],\n",
              "       [0.23745174],\n",
              "       [0.25096525],\n",
              "       [0.30888031],\n",
              "       [0.38223938],\n",
              "       [0.36486486],\n",
              "       [0.2992278 ],\n",
              "       [0.24131274],\n",
              "       [0.19111969],\n",
              "       [0.24131274],\n",
              "       [0.26640927],\n",
              "       [0.24903475],\n",
              "       [0.31467181],\n",
              "       [0.31853282],\n",
              "       [0.32046332],\n",
              "       [0.40733591],\n",
              "       [0.5019305 ],\n",
              "       [0.46911197],\n",
              "       [0.4015444 ],\n",
              "       [0.32818533],\n",
              "       [0.25675676],\n",
              "       [0.33590734],\n",
              "       [0.34749035],\n",
              "       [0.33397683],\n",
              "       [0.41119691],\n",
              "       [0.4034749 ],\n",
              "       [0.41312741],\n",
              "       [0.52123552],\n",
              "       [0.5965251 ],\n",
              "       [0.58108108],\n",
              "       [0.48455598],\n",
              "       [0.38996139],\n",
              "       [0.32239382],\n",
              "       [0.38996139],\n",
              "       [0.40733591],\n",
              "       [0.38030888],\n",
              "       [0.48648649],\n",
              "       [0.47104247],\n",
              "       [0.48455598],\n",
              "       [0.61389961],\n",
              "       [0.6969112 ],\n",
              "       [0.7007722 ],\n",
              "       [0.57915058],\n",
              "       [0.46911197],\n",
              "       [0.38803089],\n",
              "       [0.44787645],\n",
              "       [0.45559846],\n",
              "       [0.41312741],\n",
              "       [0.4980695 ],\n",
              "       [0.47104247],\n",
              "       [0.5       ],\n",
              "       [0.63899614],\n",
              "       [0.74710425],\n",
              "       [0.77413127],\n",
              "       [0.57915058],\n",
              "       [0.49227799],\n",
              "       [0.3976834 ],\n",
              "       [0.44980695],\n",
              "       [0.49420849],\n",
              "       [0.45945946],\n",
              "       [0.58301158],\n",
              "       [0.56370656],\n",
              "       [0.61003861],\n",
              "       [0.71042471],\n",
              "       [0.85714286],\n",
              "       [0.87837838],\n",
              "       [0.69305019],\n",
              "       [0.58494208],\n",
              "       [0.4980695 ],\n",
              "       [0.58108108],\n",
              "       [0.6042471 ],\n",
              "       [0.55405405],\n",
              "       [0.60810811],\n",
              "       [0.68918919],\n",
              "       [0.71042471],\n",
              "       [0.83204633],\n",
              "       [1.        ],\n",
              "       [0.96911197],\n",
              "       [0.77992278],\n",
              "       [0.68918919],\n",
              "       [0.55212355],\n",
              "       [0.63320463]])"
            ]
          },
          "metadata": {},
          "execution_count": 10
        }
      ]
    },
    {
      "cell_type": "markdown",
      "source": [
        "# Prepare Train/Test Split"
      ],
      "metadata": {
        "id": "dClU09mDTz2A"
      }
    },
    {
      "cell_type": "code",
      "source": [
        "# [1,2,3,4,5,6,7,8,9,10,11,12,13,14,15,16,17,18,19,20,21,22,23,24]"
      ],
      "metadata": {
        "id": "2zR_q4oHf0Fe"
      },
      "execution_count": null,
      "outputs": []
    },
    {
      "cell_type": "code",
      "source": [
        "# 1,2,3,4,5,6,7,8,9,10,11,12 - 13\n",
        "# 2,3,4,5,6,7,8,9,10,11,12,13 - 14\n",
        "# 3,4,5,6,7,8,9,10,11,12,13,14 - 15\n",
        "# 4,5,6,7,8,9,10,11,12,13,14,15 - 16"
      ],
      "metadata": {
        "id": "gmwAvTvqgIg9"
      },
      "execution_count": null,
      "outputs": []
    },
    {
      "cell_type": "code",
      "source": [
        "# [13,14,15,16,17,18,19,20,21,22,23,24]"
      ],
      "metadata": {
        "id": "SaJ9bKEvgEw8"
      },
      "execution_count": null,
      "outputs": []
    },
    {
      "cell_type": "code",
      "source": [
        "# Last 24 months for generating 12 input → 12 output sequences\n",
        "test_data = scaled_data[-24:]\n",
        "X_test, y_test = [], []\n",
        "\n",
        "for i in range(12, 24):\n",
        "    X_test.append(test_data[i-12:i, 0])\n",
        "    y_test.append(test_data[i, 0])\n",
        "\n",
        "X_test, y_test = np.array(X_test), np.array(y_test)\n",
        "X_test = X_test.reshape((X_test.shape[0], X_test.shape[1], 1))"
      ],
      "metadata": {
        "id": "fr2d9LflT5BI"
      },
      "execution_count": null,
      "outputs": []
    },
    {
      "cell_type": "code",
      "source": [
        "X_test[0], y_test[0]"
      ],
      "metadata": {
        "colab": {
          "base_uri": "https://localhost:8080/"
        },
        "id": "ncH2iNL4T-Mw",
        "outputId": "62cec92b-9c6b-4a7d-fac6-14d02155c734"
      },
      "execution_count": null,
      "outputs": [
        {
          "output_type": "execute_result",
          "data": {
            "text/plain": [
              "(array([[0.49420849],\n",
              "        [0.45945946],\n",
              "        [0.58301158],\n",
              "        [0.56370656],\n",
              "        [0.61003861],\n",
              "        [0.71042471],\n",
              "        [0.85714286],\n",
              "        [0.87837838],\n",
              "        [0.69305019],\n",
              "        [0.58494208],\n",
              "        [0.4980695 ],\n",
              "        [0.58108108]]),\n",
              " np.float64(0.6042471042471043))"
            ]
          },
          "metadata": {},
          "execution_count": 15
        }
      ]
    },
    {
      "cell_type": "code",
      "source": [
        "X_test[1], y_test[1]"
      ],
      "metadata": {
        "colab": {
          "base_uri": "https://localhost:8080/"
        },
        "id": "3YpiZw-nUKFh",
        "outputId": "1df8a567-4022-4e16-b386-738d8d2f09cc"
      },
      "execution_count": null,
      "outputs": [
        {
          "output_type": "execute_result",
          "data": {
            "text/plain": [
              "(array([[0.45945946],\n",
              "        [0.58301158],\n",
              "        [0.56370656],\n",
              "        [0.61003861],\n",
              "        [0.71042471],\n",
              "        [0.85714286],\n",
              "        [0.87837838],\n",
              "        [0.69305019],\n",
              "        [0.58494208],\n",
              "        [0.4980695 ],\n",
              "        [0.58108108],\n",
              "        [0.6042471 ]]),\n",
              " np.float64(0.5540540540540541))"
            ]
          },
          "metadata": {},
          "execution_count": 16
        }
      ]
    },
    {
      "cell_type": "code",
      "source": [
        "# 0-11 - 12\n",
        "# 1-12 - 13\n",
        "# 2-13 - 14\n",
        "# 3-14 - 15\n",
        "# 4-15 - 16"
      ],
      "metadata": {
        "id": "48Hbe2V0hHLQ"
      },
      "execution_count": null,
      "outputs": []
    },
    {
      "cell_type": "code",
      "source": [
        "# Train data = all before last 12 months\n",
        "train_data = scaled_data[:-12]\n",
        "X_train, y_train = [], []\n",
        "\n",
        "for i in range(12, len(train_data)):\n",
        "    X_train.append(train_data[i-12:i, 0])\n",
        "    y_train.append(train_data[i, 0])\n",
        "\n",
        "X_train, y_train = np.array(X_train), np.array(y_train)\n",
        "X_train = X_train.reshape((X_train.shape[0], X_train.shape[1], 1))"
      ],
      "metadata": {
        "id": "oxd_uuoyTvrh"
      },
      "execution_count": null,
      "outputs": []
    },
    {
      "cell_type": "code",
      "source": [
        "X_train[0], y_train[0]"
      ],
      "metadata": {
        "colab": {
          "base_uri": "https://localhost:8080/"
        },
        "id": "nR2-FS8IUDUw",
        "outputId": "0561afcf-de18-4c6d-d68f-3f4adf0c4088"
      },
      "execution_count": null,
      "outputs": [
        {
          "output_type": "execute_result",
          "data": {
            "text/plain": [
              "(array([[0.01544402],\n",
              "        [0.02702703],\n",
              "        [0.05405405],\n",
              "        [0.04826255],\n",
              "        [0.03281853],\n",
              "        [0.05984556],\n",
              "        [0.08494208],\n",
              "        [0.08494208],\n",
              "        [0.06177606],\n",
              "        [0.02895753],\n",
              "        [0.        ],\n",
              "        [0.02702703]]),\n",
              " np.float64(0.02123552123552122))"
            ]
          },
          "metadata": {},
          "execution_count": 19
        }
      ]
    },
    {
      "cell_type": "code",
      "source": [
        "X_train[1], y_train[1]"
      ],
      "metadata": {
        "colab": {
          "base_uri": "https://localhost:8080/"
        },
        "id": "RgUbmLyTUFTZ",
        "outputId": "333628ac-3548-45cb-e53e-a0e887073b24"
      },
      "execution_count": null,
      "outputs": [
        {
          "output_type": "execute_result",
          "data": {
            "text/plain": [
              "(array([[0.02702703],\n",
              "        [0.05405405],\n",
              "        [0.04826255],\n",
              "        [0.03281853],\n",
              "        [0.05984556],\n",
              "        [0.08494208],\n",
              "        [0.08494208],\n",
              "        [0.06177606],\n",
              "        [0.02895753],\n",
              "        [0.        ],\n",
              "        [0.02702703],\n",
              "        [0.02123552]]),\n",
              " np.float64(0.04247104247104247))"
            ]
          },
          "metadata": {},
          "execution_count": 20
        }
      ]
    },
    {
      "cell_type": "markdown",
      "source": [
        "# Build and Train the RNN Model"
      ],
      "metadata": {
        "id": "YOkbrigeUVBR"
      }
    },
    {
      "cell_type": "code",
      "source": [
        "model = Sequential()\n",
        "model.add(SimpleRNN(units=50, return_sequences=True, input_shape=(12, 1)))\n",
        "model.add(Dropout(0.2))\n",
        "model.add(SimpleRNN(units=50))\n",
        "model.add(Dropout(0.2))\n",
        "model.add(Dense(units=1))\n",
        "model.compile(optimizer='adam', loss='mean_squared_error')\n",
        "model.summary()"
      ],
      "metadata": {
        "colab": {
          "base_uri": "https://localhost:8080/",
          "height": 344
        },
        "id": "ojlK0A6YUa03",
        "outputId": "98def7af-70f0-4ba2-d6db-da864479a509"
      },
      "execution_count": null,
      "outputs": [
        {
          "output_type": "stream",
          "name": "stderr",
          "text": [
            "/usr/local/lib/python3.11/dist-packages/keras/src/layers/rnn/rnn.py:200: UserWarning: Do not pass an `input_shape`/`input_dim` argument to a layer. When using Sequential models, prefer using an `Input(shape)` object as the first layer in the model instead.\n",
            "  super().__init__(**kwargs)\n"
          ]
        },
        {
          "output_type": "display_data",
          "data": {
            "text/plain": [
              "\u001b[1mModel: \"sequential\"\u001b[0m\n"
            ],
            "text/html": [
              "<pre style=\"white-space:pre;overflow-x:auto;line-height:normal;font-family:Menlo,'DejaVu Sans Mono',consolas,'Courier New',monospace\"><span style=\"font-weight: bold\">Model: \"sequential\"</span>\n",
              "</pre>\n"
            ]
          },
          "metadata": {}
        },
        {
          "output_type": "display_data",
          "data": {
            "text/plain": [
              "┏━━━━━━━━━━━━━━━━━━━━━━━━━━━━━━━━━┳━━━━━━━━━━━━━━━━━━━━━━━━┳━━━━━━━━━━━━━━━┓\n",
              "┃\u001b[1m \u001b[0m\u001b[1mLayer (type)                   \u001b[0m\u001b[1m \u001b[0m┃\u001b[1m \u001b[0m\u001b[1mOutput Shape          \u001b[0m\u001b[1m \u001b[0m┃\u001b[1m \u001b[0m\u001b[1m      Param #\u001b[0m\u001b[1m \u001b[0m┃\n",
              "┡━━━━━━━━━━━━━━━━━━━━━━━━━━━━━━━━━╇━━━━━━━━━━━━━━━━━━━━━━━━╇━━━━━━━━━━━━━━━┩\n",
              "│ simple_rnn (\u001b[38;5;33mSimpleRNN\u001b[0m)          │ (\u001b[38;5;45mNone\u001b[0m, \u001b[38;5;34m12\u001b[0m, \u001b[38;5;34m50\u001b[0m)         │         \u001b[38;5;34m2,600\u001b[0m │\n",
              "├─────────────────────────────────┼────────────────────────┼───────────────┤\n",
              "│ dropout (\u001b[38;5;33mDropout\u001b[0m)               │ (\u001b[38;5;45mNone\u001b[0m, \u001b[38;5;34m12\u001b[0m, \u001b[38;5;34m50\u001b[0m)         │             \u001b[38;5;34m0\u001b[0m │\n",
              "├─────────────────────────────────┼────────────────────────┼───────────────┤\n",
              "│ simple_rnn_1 (\u001b[38;5;33mSimpleRNN\u001b[0m)        │ (\u001b[38;5;45mNone\u001b[0m, \u001b[38;5;34m50\u001b[0m)             │         \u001b[38;5;34m5,050\u001b[0m │\n",
              "├─────────────────────────────────┼────────────────────────┼───────────────┤\n",
              "│ dropout_1 (\u001b[38;5;33mDropout\u001b[0m)             │ (\u001b[38;5;45mNone\u001b[0m, \u001b[38;5;34m50\u001b[0m)             │             \u001b[38;5;34m0\u001b[0m │\n",
              "├─────────────────────────────────┼────────────────────────┼───────────────┤\n",
              "│ dense (\u001b[38;5;33mDense\u001b[0m)                   │ (\u001b[38;5;45mNone\u001b[0m, \u001b[38;5;34m1\u001b[0m)              │            \u001b[38;5;34m51\u001b[0m │\n",
              "└─────────────────────────────────┴────────────────────────┴───────────────┘\n"
            ],
            "text/html": [
              "<pre style=\"white-space:pre;overflow-x:auto;line-height:normal;font-family:Menlo,'DejaVu Sans Mono',consolas,'Courier New',monospace\">┏━━━━━━━━━━━━━━━━━━━━━━━━━━━━━━━━━┳━━━━━━━━━━━━━━━━━━━━━━━━┳━━━━━━━━━━━━━━━┓\n",
              "┃<span style=\"font-weight: bold\"> Layer (type)                    </span>┃<span style=\"font-weight: bold\"> Output Shape           </span>┃<span style=\"font-weight: bold\">       Param # </span>┃\n",
              "┡━━━━━━━━━━━━━━━━━━━━━━━━━━━━━━━━━╇━━━━━━━━━━━━━━━━━━━━━━━━╇━━━━━━━━━━━━━━━┩\n",
              "│ simple_rnn (<span style=\"color: #0087ff; text-decoration-color: #0087ff\">SimpleRNN</span>)          │ (<span style=\"color: #00d7ff; text-decoration-color: #00d7ff\">None</span>, <span style=\"color: #00af00; text-decoration-color: #00af00\">12</span>, <span style=\"color: #00af00; text-decoration-color: #00af00\">50</span>)         │         <span style=\"color: #00af00; text-decoration-color: #00af00\">2,600</span> │\n",
              "├─────────────────────────────────┼────────────────────────┼───────────────┤\n",
              "│ dropout (<span style=\"color: #0087ff; text-decoration-color: #0087ff\">Dropout</span>)               │ (<span style=\"color: #00d7ff; text-decoration-color: #00d7ff\">None</span>, <span style=\"color: #00af00; text-decoration-color: #00af00\">12</span>, <span style=\"color: #00af00; text-decoration-color: #00af00\">50</span>)         │             <span style=\"color: #00af00; text-decoration-color: #00af00\">0</span> │\n",
              "├─────────────────────────────────┼────────────────────────┼───────────────┤\n",
              "│ simple_rnn_1 (<span style=\"color: #0087ff; text-decoration-color: #0087ff\">SimpleRNN</span>)        │ (<span style=\"color: #00d7ff; text-decoration-color: #00d7ff\">None</span>, <span style=\"color: #00af00; text-decoration-color: #00af00\">50</span>)             │         <span style=\"color: #00af00; text-decoration-color: #00af00\">5,050</span> │\n",
              "├─────────────────────────────────┼────────────────────────┼───────────────┤\n",
              "│ dropout_1 (<span style=\"color: #0087ff; text-decoration-color: #0087ff\">Dropout</span>)             │ (<span style=\"color: #00d7ff; text-decoration-color: #00d7ff\">None</span>, <span style=\"color: #00af00; text-decoration-color: #00af00\">50</span>)             │             <span style=\"color: #00af00; text-decoration-color: #00af00\">0</span> │\n",
              "├─────────────────────────────────┼────────────────────────┼───────────────┤\n",
              "│ dense (<span style=\"color: #0087ff; text-decoration-color: #0087ff\">Dense</span>)                   │ (<span style=\"color: #00d7ff; text-decoration-color: #00d7ff\">None</span>, <span style=\"color: #00af00; text-decoration-color: #00af00\">1</span>)              │            <span style=\"color: #00af00; text-decoration-color: #00af00\">51</span> │\n",
              "└─────────────────────────────────┴────────────────────────┴───────────────┘\n",
              "</pre>\n"
            ]
          },
          "metadata": {}
        },
        {
          "output_type": "display_data",
          "data": {
            "text/plain": [
              "\u001b[1m Total params: \u001b[0m\u001b[38;5;34m7,701\u001b[0m (30.08 KB)\n"
            ],
            "text/html": [
              "<pre style=\"white-space:pre;overflow-x:auto;line-height:normal;font-family:Menlo,'DejaVu Sans Mono',consolas,'Courier New',monospace\"><span style=\"font-weight: bold\"> Total params: </span><span style=\"color: #00af00; text-decoration-color: #00af00\">7,701</span> (30.08 KB)\n",
              "</pre>\n"
            ]
          },
          "metadata": {}
        },
        {
          "output_type": "display_data",
          "data": {
            "text/plain": [
              "\u001b[1m Trainable params: \u001b[0m\u001b[38;5;34m7,701\u001b[0m (30.08 KB)\n"
            ],
            "text/html": [
              "<pre style=\"white-space:pre;overflow-x:auto;line-height:normal;font-family:Menlo,'DejaVu Sans Mono',consolas,'Courier New',monospace\"><span style=\"font-weight: bold\"> Trainable params: </span><span style=\"color: #00af00; text-decoration-color: #00af00\">7,701</span> (30.08 KB)\n",
              "</pre>\n"
            ]
          },
          "metadata": {}
        },
        {
          "output_type": "display_data",
          "data": {
            "text/plain": [
              "\u001b[1m Non-trainable params: \u001b[0m\u001b[38;5;34m0\u001b[0m (0.00 B)\n"
            ],
            "text/html": [
              "<pre style=\"white-space:pre;overflow-x:auto;line-height:normal;font-family:Menlo,'DejaVu Sans Mono',consolas,'Courier New',monospace\"><span style=\"font-weight: bold\"> Non-trainable params: </span><span style=\"color: #00af00; text-decoration-color: #00af00\">0</span> (0.00 B)\n",
              "</pre>\n"
            ]
          },
          "metadata": {}
        }
      ]
    },
    {
      "cell_type": "code",
      "source": [
        "model.fit(X_train, y_train, epochs=100)"
      ],
      "metadata": {
        "colab": {
          "base_uri": "https://localhost:8080/"
        },
        "id": "GfQS3XdHUQhR",
        "outputId": "2251cea4-bf07-47d2-88a2-41dd9fd196c8"
      },
      "execution_count": null,
      "outputs": [
        {
          "output_type": "stream",
          "name": "stdout",
          "text": [
            "Epoch 1/100\n",
            "\u001b[1m4/4\u001b[0m \u001b[32m━━━━━━━━━━━━━━━━━━━━\u001b[0m\u001b[37m\u001b[0m \u001b[1m3s\u001b[0m 16ms/step - loss: 1.2352\n",
            "Epoch 2/100\n",
            "\u001b[1m4/4\u001b[0m \u001b[32m━━━━━━━━━━━━━━━━━━━━\u001b[0m\u001b[37m\u001b[0m \u001b[1m0s\u001b[0m 13ms/step - loss: 0.3533\n",
            "Epoch 3/100\n",
            "\u001b[1m4/4\u001b[0m \u001b[32m━━━━━━━━━━━━━━━━━━━━\u001b[0m\u001b[37m\u001b[0m \u001b[1m0s\u001b[0m 13ms/step - loss: 0.1232\n",
            "Epoch 4/100\n",
            "\u001b[1m4/4\u001b[0m \u001b[32m━━━━━━━━━━━━━━━━━━━━\u001b[0m\u001b[37m\u001b[0m \u001b[1m0s\u001b[0m 13ms/step - loss: 0.1178\n",
            "Epoch 5/100\n",
            "\u001b[1m4/4\u001b[0m \u001b[32m━━━━━━━━━━━━━━━━━━━━\u001b[0m\u001b[37m\u001b[0m \u001b[1m0s\u001b[0m 13ms/step - loss: 0.1182\n",
            "Epoch 6/100\n",
            "\u001b[1m4/4\u001b[0m \u001b[32m━━━━━━━━━━━━━━━━━━━━\u001b[0m\u001b[37m\u001b[0m \u001b[1m0s\u001b[0m 13ms/step - loss: 0.0621\n",
            "Epoch 7/100\n",
            "\u001b[1m4/4\u001b[0m \u001b[32m━━━━━━━━━━━━━━━━━━━━\u001b[0m\u001b[37m\u001b[0m \u001b[1m0s\u001b[0m 12ms/step - loss: 0.0772\n",
            "Epoch 8/100\n",
            "\u001b[1m4/4\u001b[0m \u001b[32m━━━━━━━━━━━━━━━━━━━━\u001b[0m\u001b[37m\u001b[0m \u001b[1m0s\u001b[0m 13ms/step - loss: 0.0491\n",
            "Epoch 9/100\n",
            "\u001b[1m4/4\u001b[0m \u001b[32m━━━━━━━━━━━━━━━━━━━━\u001b[0m\u001b[37m\u001b[0m \u001b[1m0s\u001b[0m 13ms/step - loss: 0.0583 \n",
            "Epoch 10/100\n",
            "\u001b[1m4/4\u001b[0m \u001b[32m━━━━━━━━━━━━━━━━━━━━\u001b[0m\u001b[37m\u001b[0m \u001b[1m0s\u001b[0m 13ms/step - loss: 0.0359\n",
            "Epoch 11/100\n",
            "\u001b[1m4/4\u001b[0m \u001b[32m━━━━━━━━━━━━━━━━━━━━\u001b[0m\u001b[37m\u001b[0m \u001b[1m0s\u001b[0m 13ms/step - loss: 0.0382 \n",
            "Epoch 12/100\n",
            "\u001b[1m4/4\u001b[0m \u001b[32m━━━━━━━━━━━━━━━━━━━━\u001b[0m\u001b[37m\u001b[0m \u001b[1m0s\u001b[0m 14ms/step - loss: 0.0388\n",
            "Epoch 13/100\n",
            "\u001b[1m4/4\u001b[0m \u001b[32m━━━━━━━━━━━━━━━━━━━━\u001b[0m\u001b[37m\u001b[0m \u001b[1m0s\u001b[0m 13ms/step - loss: 0.0342\n",
            "Epoch 14/100\n",
            "\u001b[1m4/4\u001b[0m \u001b[32m━━━━━━━━━━━━━━━━━━━━\u001b[0m\u001b[37m\u001b[0m \u001b[1m0s\u001b[0m 13ms/step - loss: 0.0276\n",
            "Epoch 15/100\n",
            "\u001b[1m4/4\u001b[0m \u001b[32m━━━━━━━━━━━━━━━━━━━━\u001b[0m\u001b[37m\u001b[0m \u001b[1m0s\u001b[0m 13ms/step - loss: 0.0287\n",
            "Epoch 16/100\n",
            "\u001b[1m4/4\u001b[0m \u001b[32m━━━━━━━━━━━━━━━━━━━━\u001b[0m\u001b[37m\u001b[0m \u001b[1m0s\u001b[0m 13ms/step - loss: 0.0277\n",
            "Epoch 17/100\n",
            "\u001b[1m4/4\u001b[0m \u001b[32m━━━━━━━━━━━━━━━━━━━━\u001b[0m\u001b[37m\u001b[0m \u001b[1m0s\u001b[0m 13ms/step - loss: 0.0223\n",
            "Epoch 18/100\n",
            "\u001b[1m4/4\u001b[0m \u001b[32m━━━━━━━━━━━━━━━━━━━━\u001b[0m\u001b[37m\u001b[0m \u001b[1m0s\u001b[0m 12ms/step - loss: 0.0229\n",
            "Epoch 19/100\n",
            "\u001b[1m4/4\u001b[0m \u001b[32m━━━━━━━━━━━━━━━━━━━━\u001b[0m\u001b[37m\u001b[0m \u001b[1m0s\u001b[0m 13ms/step - loss: 0.0190\n",
            "Epoch 20/100\n",
            "\u001b[1m4/4\u001b[0m \u001b[32m━━━━━━━━━━━━━━━━━━━━\u001b[0m\u001b[37m\u001b[0m \u001b[1m0s\u001b[0m 13ms/step - loss: 0.0161\n",
            "Epoch 21/100\n",
            "\u001b[1m4/4\u001b[0m \u001b[32m━━━━━━━━━━━━━━━━━━━━\u001b[0m\u001b[37m\u001b[0m \u001b[1m0s\u001b[0m 13ms/step - loss: 0.0234\n",
            "Epoch 22/100\n",
            "\u001b[1m4/4\u001b[0m \u001b[32m━━━━━━━━━━━━━━━━━━━━\u001b[0m\u001b[37m\u001b[0m \u001b[1m0s\u001b[0m 14ms/step - loss: 0.0202\n",
            "Epoch 23/100\n",
            "\u001b[1m4/4\u001b[0m \u001b[32m━━━━━━━━━━━━━━━━━━━━\u001b[0m\u001b[37m\u001b[0m \u001b[1m0s\u001b[0m 17ms/step - loss: 0.0196\n",
            "Epoch 24/100\n",
            "\u001b[1m4/4\u001b[0m \u001b[32m━━━━━━━━━━━━━━━━━━━━\u001b[0m\u001b[37m\u001b[0m \u001b[1m0s\u001b[0m 13ms/step - loss: 0.0266\n",
            "Epoch 25/100\n",
            "\u001b[1m4/4\u001b[0m \u001b[32m━━━━━━━━━━━━━━━━━━━━\u001b[0m\u001b[37m\u001b[0m \u001b[1m0s\u001b[0m 14ms/step - loss: 0.0172\n",
            "Epoch 26/100\n",
            "\u001b[1m4/4\u001b[0m \u001b[32m━━━━━━━━━━━━━━━━━━━━\u001b[0m\u001b[37m\u001b[0m \u001b[1m0s\u001b[0m 13ms/step - loss: 0.0223\n",
            "Epoch 27/100\n",
            "\u001b[1m4/4\u001b[0m \u001b[32m━━━━━━━━━━━━━━━━━━━━\u001b[0m\u001b[37m\u001b[0m \u001b[1m0s\u001b[0m 14ms/step - loss: 0.0187 \n",
            "Epoch 28/100\n",
            "\u001b[1m4/4\u001b[0m \u001b[32m━━━━━━━━━━━━━━━━━━━━\u001b[0m\u001b[37m\u001b[0m \u001b[1m0s\u001b[0m 13ms/step - loss: 0.0222 \n",
            "Epoch 29/100\n",
            "\u001b[1m4/4\u001b[0m \u001b[32m━━━━━━━━━━━━━━━━━━━━\u001b[0m\u001b[37m\u001b[0m \u001b[1m0s\u001b[0m 15ms/step - loss: 0.0221\n",
            "Epoch 30/100\n",
            "\u001b[1m4/4\u001b[0m \u001b[32m━━━━━━━━━━━━━━━━━━━━\u001b[0m\u001b[37m\u001b[0m \u001b[1m0s\u001b[0m 13ms/step - loss: 0.0128\n",
            "Epoch 31/100\n",
            "\u001b[1m4/4\u001b[0m \u001b[32m━━━━━━━━━━━━━━━━━━━━\u001b[0m\u001b[37m\u001b[0m \u001b[1m0s\u001b[0m 14ms/step - loss: 0.0157\n",
            "Epoch 32/100\n",
            "\u001b[1m4/4\u001b[0m \u001b[32m━━━━━━━━━━━━━━━━━━━━\u001b[0m\u001b[37m\u001b[0m \u001b[1m0s\u001b[0m 14ms/step - loss: 0.0131 \n",
            "Epoch 33/100\n",
            "\u001b[1m4/4\u001b[0m \u001b[32m━━━━━━━━━━━━━━━━━━━━\u001b[0m\u001b[37m\u001b[0m \u001b[1m0s\u001b[0m 14ms/step - loss: 0.0159\n",
            "Epoch 34/100\n",
            "\u001b[1m4/4\u001b[0m \u001b[32m━━━━━━━━━━━━━━━━━━━━\u001b[0m\u001b[37m\u001b[0m \u001b[1m0s\u001b[0m 15ms/step - loss: 0.0146\n",
            "Epoch 35/100\n",
            "\u001b[1m4/4\u001b[0m \u001b[32m━━━━━━━━━━━━━━━━━━━━\u001b[0m\u001b[37m\u001b[0m \u001b[1m0s\u001b[0m 13ms/step - loss: 0.0126\n",
            "Epoch 36/100\n",
            "\u001b[1m4/4\u001b[0m \u001b[32m━━━━━━━━━━━━━━━━━━━━\u001b[0m\u001b[37m\u001b[0m \u001b[1m0s\u001b[0m 13ms/step - loss: 0.0147 \n",
            "Epoch 37/100\n",
            "\u001b[1m4/4\u001b[0m \u001b[32m━━━━━━━━━━━━━━━━━━━━\u001b[0m\u001b[37m\u001b[0m \u001b[1m0s\u001b[0m 13ms/step - loss: 0.0123\n",
            "Epoch 38/100\n",
            "\u001b[1m4/4\u001b[0m \u001b[32m━━━━━━━━━━━━━━━━━━━━\u001b[0m\u001b[37m\u001b[0m \u001b[1m0s\u001b[0m 13ms/step - loss: 0.0158\n",
            "Epoch 39/100\n",
            "\u001b[1m4/4\u001b[0m \u001b[32m━━━━━━━━━━━━━━━━━━━━\u001b[0m\u001b[37m\u001b[0m \u001b[1m0s\u001b[0m 13ms/step - loss: 0.0129\n",
            "Epoch 40/100\n",
            "\u001b[1m4/4\u001b[0m \u001b[32m━━━━━━━━━━━━━━━━━━━━\u001b[0m\u001b[37m\u001b[0m \u001b[1m0s\u001b[0m 13ms/step - loss: 0.0120\n",
            "Epoch 41/100\n",
            "\u001b[1m4/4\u001b[0m \u001b[32m━━━━━━━━━━━━━━━━━━━━\u001b[0m\u001b[37m\u001b[0m \u001b[1m0s\u001b[0m 13ms/step - loss: 0.0127\n",
            "Epoch 42/100\n",
            "\u001b[1m4/4\u001b[0m \u001b[32m━━━━━━━━━━━━━━━━━━━━\u001b[0m\u001b[37m\u001b[0m \u001b[1m0s\u001b[0m 14ms/step - loss: 0.0175 \n",
            "Epoch 43/100\n",
            "\u001b[1m4/4\u001b[0m \u001b[32m━━━━━━━━━━━━━━━━━━━━\u001b[0m\u001b[37m\u001b[0m \u001b[1m0s\u001b[0m 13ms/step - loss: 0.0137\n",
            "Epoch 44/100\n",
            "\u001b[1m4/4\u001b[0m \u001b[32m━━━━━━━━━━━━━━━━━━━━\u001b[0m\u001b[37m\u001b[0m \u001b[1m0s\u001b[0m 13ms/step - loss: 0.0127\n",
            "Epoch 45/100\n",
            "\u001b[1m4/4\u001b[0m \u001b[32m━━━━━━━━━━━━━━━━━━━━\u001b[0m\u001b[37m\u001b[0m \u001b[1m0s\u001b[0m 19ms/step - loss: 0.0104\n",
            "Epoch 46/100\n",
            "\u001b[1m4/4\u001b[0m \u001b[32m━━━━━━━━━━━━━━━━━━━━\u001b[0m\u001b[37m\u001b[0m \u001b[1m0s\u001b[0m 14ms/step - loss: 0.0156\n",
            "Epoch 47/100\n",
            "\u001b[1m4/4\u001b[0m \u001b[32m━━━━━━━━━━━━━━━━━━━━\u001b[0m\u001b[37m\u001b[0m \u001b[1m0s\u001b[0m 15ms/step - loss: 0.0117\n",
            "Epoch 48/100\n",
            "\u001b[1m4/4\u001b[0m \u001b[32m━━━━━━━━━━━━━━━━━━━━\u001b[0m\u001b[37m\u001b[0m \u001b[1m0s\u001b[0m 17ms/step - loss: 0.0104\n",
            "Epoch 49/100\n",
            "\u001b[1m4/4\u001b[0m \u001b[32m━━━━━━━━━━━━━━━━━━━━\u001b[0m\u001b[37m\u001b[0m \u001b[1m0s\u001b[0m 14ms/step - loss: 0.0080\n",
            "Epoch 50/100\n",
            "\u001b[1m4/4\u001b[0m \u001b[32m━━━━━━━━━━━━━━━━━━━━\u001b[0m\u001b[37m\u001b[0m \u001b[1m0s\u001b[0m 14ms/step - loss: 0.0150\n",
            "Epoch 51/100\n",
            "\u001b[1m4/4\u001b[0m \u001b[32m━━━━━━━━━━━━━━━━━━━━\u001b[0m\u001b[37m\u001b[0m \u001b[1m0s\u001b[0m 14ms/step - loss: 0.0079\n",
            "Epoch 52/100\n",
            "\u001b[1m4/4\u001b[0m \u001b[32m━━━━━━━━━━━━━━━━━━━━\u001b[0m\u001b[37m\u001b[0m \u001b[1m0s\u001b[0m 23ms/step - loss: 0.0112\n",
            "Epoch 53/100\n",
            "\u001b[1m4/4\u001b[0m \u001b[32m━━━━━━━━━━━━━━━━━━━━\u001b[0m\u001b[37m\u001b[0m \u001b[1m0s\u001b[0m 22ms/step - loss: 0.0123\n",
            "Epoch 54/100\n",
            "\u001b[1m4/4\u001b[0m \u001b[32m━━━━━━━━━━━━━━━━━━━━\u001b[0m\u001b[37m\u001b[0m \u001b[1m0s\u001b[0m 23ms/step - loss: 0.0100\n",
            "Epoch 55/100\n",
            "\u001b[1m4/4\u001b[0m \u001b[32m━━━━━━━━━━━━━━━━━━━━\u001b[0m\u001b[37m\u001b[0m \u001b[1m0s\u001b[0m 22ms/step - loss: 0.0094\n",
            "Epoch 56/100\n",
            "\u001b[1m4/4\u001b[0m \u001b[32m━━━━━━━━━━━━━━━━━━━━\u001b[0m\u001b[37m\u001b[0m \u001b[1m0s\u001b[0m 20ms/step - loss: 0.0098\n",
            "Epoch 57/100\n",
            "\u001b[1m4/4\u001b[0m \u001b[32m━━━━━━━━━━━━━━━━━━━━\u001b[0m\u001b[37m\u001b[0m \u001b[1m0s\u001b[0m 20ms/step - loss: 0.0076\n",
            "Epoch 58/100\n",
            "\u001b[1m4/4\u001b[0m \u001b[32m━━━━━━━━━━━━━━━━━━━━\u001b[0m\u001b[37m\u001b[0m \u001b[1m0s\u001b[0m 20ms/step - loss: 0.0102\n",
            "Epoch 59/100\n",
            "\u001b[1m4/4\u001b[0m \u001b[32m━━━━━━━━━━━━━━━━━━━━\u001b[0m\u001b[37m\u001b[0m \u001b[1m0s\u001b[0m 19ms/step - loss: 0.0081\n",
            "Epoch 60/100\n",
            "\u001b[1m4/4\u001b[0m \u001b[32m━━━━━━━━━━━━━━━━━━━━\u001b[0m\u001b[37m\u001b[0m \u001b[1m0s\u001b[0m 19ms/step - loss: 0.0062\n",
            "Epoch 61/100\n",
            "\u001b[1m4/4\u001b[0m \u001b[32m━━━━━━━━━━━━━━━━━━━━\u001b[0m\u001b[37m\u001b[0m \u001b[1m0s\u001b[0m 19ms/step - loss: 0.0116\n",
            "Epoch 62/100\n",
            "\u001b[1m4/4\u001b[0m \u001b[32m━━━━━━━━━━━━━━━━━━━━\u001b[0m\u001b[37m\u001b[0m \u001b[1m0s\u001b[0m 22ms/step - loss: 0.0124\n",
            "Epoch 63/100\n",
            "\u001b[1m4/4\u001b[0m \u001b[32m━━━━━━━━━━━━━━━━━━━━\u001b[0m\u001b[37m\u001b[0m \u001b[1m0s\u001b[0m 21ms/step - loss: 0.0105\n",
            "Epoch 64/100\n",
            "\u001b[1m4/4\u001b[0m \u001b[32m━━━━━━━━━━━━━━━━━━━━\u001b[0m\u001b[37m\u001b[0m \u001b[1m0s\u001b[0m 22ms/step - loss: 0.0114\n",
            "Epoch 65/100\n",
            "\u001b[1m4/4\u001b[0m \u001b[32m━━━━━━━━━━━━━━━━━━━━\u001b[0m\u001b[37m\u001b[0m \u001b[1m0s\u001b[0m 19ms/step - loss: 0.0094\n",
            "Epoch 66/100\n",
            "\u001b[1m4/4\u001b[0m \u001b[32m━━━━━━━━━━━━━━━━━━━━\u001b[0m\u001b[37m\u001b[0m \u001b[1m0s\u001b[0m 19ms/step - loss: 0.0070\n",
            "Epoch 67/100\n",
            "\u001b[1m4/4\u001b[0m \u001b[32m━━━━━━━━━━━━━━━━━━━━\u001b[0m\u001b[37m\u001b[0m \u001b[1m0s\u001b[0m 20ms/step - loss: 0.0087\n",
            "Epoch 68/100\n",
            "\u001b[1m4/4\u001b[0m \u001b[32m━━━━━━━━━━━━━━━━━━━━\u001b[0m\u001b[37m\u001b[0m \u001b[1m0s\u001b[0m 19ms/step - loss: 0.0089\n",
            "Epoch 69/100\n",
            "\u001b[1m4/4\u001b[0m \u001b[32m━━━━━━━━━━━━━━━━━━━━\u001b[0m\u001b[37m\u001b[0m \u001b[1m0s\u001b[0m 20ms/step - loss: 0.0099\n",
            "Epoch 70/100\n",
            "\u001b[1m4/4\u001b[0m \u001b[32m━━━━━━━━━━━━━━━━━━━━\u001b[0m\u001b[37m\u001b[0m \u001b[1m0s\u001b[0m 21ms/step - loss: 0.0093\n",
            "Epoch 71/100\n",
            "\u001b[1m4/4\u001b[0m \u001b[32m━━━━━━━━━━━━━━━━━━━━\u001b[0m\u001b[37m\u001b[0m \u001b[1m0s\u001b[0m 21ms/step - loss: 0.0085\n",
            "Epoch 72/100\n",
            "\u001b[1m4/4\u001b[0m \u001b[32m━━━━━━━━━━━━━━━━━━━━\u001b[0m\u001b[37m\u001b[0m \u001b[1m0s\u001b[0m 18ms/step - loss: 0.0087\n",
            "Epoch 73/100\n",
            "\u001b[1m4/4\u001b[0m \u001b[32m━━━━━━━━━━━━━━━━━━━━\u001b[0m\u001b[37m\u001b[0m \u001b[1m0s\u001b[0m 19ms/step - loss: 0.0074\n",
            "Epoch 74/100\n",
            "\u001b[1m4/4\u001b[0m \u001b[32m━━━━━━━━━━━━━━━━━━━━\u001b[0m\u001b[37m\u001b[0m \u001b[1m0s\u001b[0m 19ms/step - loss: 0.0075\n",
            "Epoch 75/100\n",
            "\u001b[1m4/4\u001b[0m \u001b[32m━━━━━━━━━━━━━━━━━━━━\u001b[0m\u001b[37m\u001b[0m \u001b[1m0s\u001b[0m 22ms/step - loss: 0.0092\n",
            "Epoch 76/100\n",
            "\u001b[1m4/4\u001b[0m \u001b[32m━━━━━━━━━━━━━━━━━━━━\u001b[0m\u001b[37m\u001b[0m \u001b[1m0s\u001b[0m 23ms/step - loss: 0.0079\n",
            "Epoch 77/100\n",
            "\u001b[1m4/4\u001b[0m \u001b[32m━━━━━━━━━━━━━━━━━━━━\u001b[0m\u001b[37m\u001b[0m \u001b[1m0s\u001b[0m 21ms/step - loss: 0.0070\n",
            "Epoch 78/100\n",
            "\u001b[1m4/4\u001b[0m \u001b[32m━━━━━━━━━━━━━━━━━━━━\u001b[0m\u001b[37m\u001b[0m \u001b[1m0s\u001b[0m 23ms/step - loss: 0.0087\n",
            "Epoch 79/100\n",
            "\u001b[1m4/4\u001b[0m \u001b[32m━━━━━━━━━━━━━━━━━━━━\u001b[0m\u001b[37m\u001b[0m \u001b[1m0s\u001b[0m 24ms/step - loss: 0.0079\n",
            "Epoch 80/100\n",
            "\u001b[1m4/4\u001b[0m \u001b[32m━━━━━━━━━━━━━━━━━━━━\u001b[0m\u001b[37m\u001b[0m \u001b[1m0s\u001b[0m 16ms/step - loss: 0.0055\n",
            "Epoch 81/100\n",
            "\u001b[1m4/4\u001b[0m \u001b[32m━━━━━━━━━━━━━━━━━━━━\u001b[0m\u001b[37m\u001b[0m \u001b[1m0s\u001b[0m 13ms/step - loss: 0.0073\n",
            "Epoch 82/100\n",
            "\u001b[1m4/4\u001b[0m \u001b[32m━━━━━━━━━━━━━━━━━━━━\u001b[0m\u001b[37m\u001b[0m \u001b[1m0s\u001b[0m 13ms/step - loss: 0.0086\n",
            "Epoch 83/100\n",
            "\u001b[1m4/4\u001b[0m \u001b[32m━━━━━━━━━━━━━━━━━━━━\u001b[0m\u001b[37m\u001b[0m \u001b[1m0s\u001b[0m 13ms/step - loss: 0.0070 \n",
            "Epoch 84/100\n",
            "\u001b[1m4/4\u001b[0m \u001b[32m━━━━━━━━━━━━━━━━━━━━\u001b[0m\u001b[37m\u001b[0m \u001b[1m0s\u001b[0m 13ms/step - loss: 0.0080\n",
            "Epoch 85/100\n",
            "\u001b[1m4/4\u001b[0m \u001b[32m━━━━━━━━━━━━━━━━━━━━\u001b[0m\u001b[37m\u001b[0m \u001b[1m0s\u001b[0m 14ms/step - loss: 0.0064\n",
            "Epoch 86/100\n",
            "\u001b[1m4/4\u001b[0m \u001b[32m━━━━━━━━━━━━━━━━━━━━\u001b[0m\u001b[37m\u001b[0m \u001b[1m0s\u001b[0m 14ms/step - loss: 0.0056\n",
            "Epoch 87/100\n",
            "\u001b[1m4/4\u001b[0m \u001b[32m━━━━━━━━━━━━━━━━━━━━\u001b[0m\u001b[37m\u001b[0m \u001b[1m0s\u001b[0m 18ms/step - loss: 0.0081\n",
            "Epoch 88/100\n",
            "\u001b[1m4/4\u001b[0m \u001b[32m━━━━━━━━━━━━━━━━━━━━\u001b[0m\u001b[37m\u001b[0m \u001b[1m0s\u001b[0m 15ms/step - loss: 0.0064\n",
            "Epoch 89/100\n",
            "\u001b[1m4/4\u001b[0m \u001b[32m━━━━━━━━━━━━━━━━━━━━\u001b[0m\u001b[37m\u001b[0m \u001b[1m0s\u001b[0m 13ms/step - loss: 0.0074\n",
            "Epoch 90/100\n",
            "\u001b[1m4/4\u001b[0m \u001b[32m━━━━━━━━━━━━━━━━━━━━\u001b[0m\u001b[37m\u001b[0m \u001b[1m0s\u001b[0m 13ms/step - loss: 0.0060 \n",
            "Epoch 91/100\n",
            "\u001b[1m4/4\u001b[0m \u001b[32m━━━━━━━━━━━━━━━━━━━━\u001b[0m\u001b[37m\u001b[0m \u001b[1m0s\u001b[0m 13ms/step - loss: 0.0080\n",
            "Epoch 92/100\n",
            "\u001b[1m4/4\u001b[0m \u001b[32m━━━━━━━━━━━━━━━━━━━━\u001b[0m\u001b[37m\u001b[0m \u001b[1m0s\u001b[0m 13ms/step - loss: 0.0068\n",
            "Epoch 93/100\n",
            "\u001b[1m4/4\u001b[0m \u001b[32m━━━━━━━━━━━━━━━━━━━━\u001b[0m\u001b[37m\u001b[0m \u001b[1m0s\u001b[0m 13ms/step - loss: 0.0067 \n",
            "Epoch 94/100\n",
            "\u001b[1m4/4\u001b[0m \u001b[32m━━━━━━━━━━━━━━━━━━━━\u001b[0m\u001b[37m\u001b[0m \u001b[1m0s\u001b[0m 14ms/step - loss: 0.0064\n",
            "Epoch 95/100\n",
            "\u001b[1m4/4\u001b[0m \u001b[32m━━━━━━━━━━━━━━━━━━━━\u001b[0m\u001b[37m\u001b[0m \u001b[1m0s\u001b[0m 14ms/step - loss: 0.0092\n",
            "Epoch 96/100\n",
            "\u001b[1m4/4\u001b[0m \u001b[32m━━━━━━━━━━━━━━━━━━━━\u001b[0m\u001b[37m\u001b[0m \u001b[1m0s\u001b[0m 13ms/step - loss: 0.0058\n",
            "Epoch 97/100\n",
            "\u001b[1m4/4\u001b[0m \u001b[32m━━━━━━━━━━━━━━━━━━━━\u001b[0m\u001b[37m\u001b[0m \u001b[1m0s\u001b[0m 13ms/step - loss: 0.0059\n",
            "Epoch 98/100\n",
            "\u001b[1m4/4\u001b[0m \u001b[32m━━━━━━━━━━━━━━━━━━━━\u001b[0m\u001b[37m\u001b[0m \u001b[1m0s\u001b[0m 14ms/step - loss: 0.0073 \n",
            "Epoch 99/100\n",
            "\u001b[1m4/4\u001b[0m \u001b[32m━━━━━━━━━━━━━━━━━━━━\u001b[0m\u001b[37m\u001b[0m \u001b[1m0s\u001b[0m 13ms/step - loss: 0.0075\n",
            "Epoch 100/100\n",
            "\u001b[1m4/4\u001b[0m \u001b[32m━━━━━━━━━━━━━━━━━━━━\u001b[0m\u001b[37m\u001b[0m \u001b[1m0s\u001b[0m 13ms/step - loss: 0.0053\n"
          ]
        },
        {
          "output_type": "execute_result",
          "data": {
            "text/plain": [
              "<keras.src.callbacks.history.History at 0x7e7301bf0450>"
            ]
          },
          "metadata": {},
          "execution_count": 22
        }
      ]
    },
    {
      "cell_type": "markdown",
      "source": [
        "# Predict the Last 12 Months (Test Set)"
      ],
      "metadata": {
        "id": "JHzfXJOOUn6_"
      }
    },
    {
      "cell_type": "code",
      "source": [
        "X_test"
      ],
      "metadata": {
        "colab": {
          "base_uri": "https://localhost:8080/"
        },
        "id": "SsPTkJx0UtxI",
        "outputId": "2555dfe6-5f0a-4c9d-88fc-35baf88e6f7e"
      },
      "execution_count": null,
      "outputs": [
        {
          "output_type": "execute_result",
          "data": {
            "text/plain": [
              "array([[[0.49420849],\n",
              "        [0.45945946],\n",
              "        [0.58301158],\n",
              "        [0.56370656],\n",
              "        [0.61003861],\n",
              "        [0.71042471],\n",
              "        [0.85714286],\n",
              "        [0.87837838],\n",
              "        [0.69305019],\n",
              "        [0.58494208],\n",
              "        [0.4980695 ],\n",
              "        [0.58108108]],\n",
              "\n",
              "       [[0.45945946],\n",
              "        [0.58301158],\n",
              "        [0.56370656],\n",
              "        [0.61003861],\n",
              "        [0.71042471],\n",
              "        [0.85714286],\n",
              "        [0.87837838],\n",
              "        [0.69305019],\n",
              "        [0.58494208],\n",
              "        [0.4980695 ],\n",
              "        [0.58108108],\n",
              "        [0.6042471 ]],\n",
              "\n",
              "       [[0.58301158],\n",
              "        [0.56370656],\n",
              "        [0.61003861],\n",
              "        [0.71042471],\n",
              "        [0.85714286],\n",
              "        [0.87837838],\n",
              "        [0.69305019],\n",
              "        [0.58494208],\n",
              "        [0.4980695 ],\n",
              "        [0.58108108],\n",
              "        [0.6042471 ],\n",
              "        [0.55405405]],\n",
              "\n",
              "       [[0.56370656],\n",
              "        [0.61003861],\n",
              "        [0.71042471],\n",
              "        [0.85714286],\n",
              "        [0.87837838],\n",
              "        [0.69305019],\n",
              "        [0.58494208],\n",
              "        [0.4980695 ],\n",
              "        [0.58108108],\n",
              "        [0.6042471 ],\n",
              "        [0.55405405],\n",
              "        [0.60810811]],\n",
              "\n",
              "       [[0.61003861],\n",
              "        [0.71042471],\n",
              "        [0.85714286],\n",
              "        [0.87837838],\n",
              "        [0.69305019],\n",
              "        [0.58494208],\n",
              "        [0.4980695 ],\n",
              "        [0.58108108],\n",
              "        [0.6042471 ],\n",
              "        [0.55405405],\n",
              "        [0.60810811],\n",
              "        [0.68918919]],\n",
              "\n",
              "       [[0.71042471],\n",
              "        [0.85714286],\n",
              "        [0.87837838],\n",
              "        [0.69305019],\n",
              "        [0.58494208],\n",
              "        [0.4980695 ],\n",
              "        [0.58108108],\n",
              "        [0.6042471 ],\n",
              "        [0.55405405],\n",
              "        [0.60810811],\n",
              "        [0.68918919],\n",
              "        [0.71042471]],\n",
              "\n",
              "       [[0.85714286],\n",
              "        [0.87837838],\n",
              "        [0.69305019],\n",
              "        [0.58494208],\n",
              "        [0.4980695 ],\n",
              "        [0.58108108],\n",
              "        [0.6042471 ],\n",
              "        [0.55405405],\n",
              "        [0.60810811],\n",
              "        [0.68918919],\n",
              "        [0.71042471],\n",
              "        [0.83204633]],\n",
              "\n",
              "       [[0.87837838],\n",
              "        [0.69305019],\n",
              "        [0.58494208],\n",
              "        [0.4980695 ],\n",
              "        [0.58108108],\n",
              "        [0.6042471 ],\n",
              "        [0.55405405],\n",
              "        [0.60810811],\n",
              "        [0.68918919],\n",
              "        [0.71042471],\n",
              "        [0.83204633],\n",
              "        [1.        ]],\n",
              "\n",
              "       [[0.69305019],\n",
              "        [0.58494208],\n",
              "        [0.4980695 ],\n",
              "        [0.58108108],\n",
              "        [0.6042471 ],\n",
              "        [0.55405405],\n",
              "        [0.60810811],\n",
              "        [0.68918919],\n",
              "        [0.71042471],\n",
              "        [0.83204633],\n",
              "        [1.        ],\n",
              "        [0.96911197]],\n",
              "\n",
              "       [[0.58494208],\n",
              "        [0.4980695 ],\n",
              "        [0.58108108],\n",
              "        [0.6042471 ],\n",
              "        [0.55405405],\n",
              "        [0.60810811],\n",
              "        [0.68918919],\n",
              "        [0.71042471],\n",
              "        [0.83204633],\n",
              "        [1.        ],\n",
              "        [0.96911197],\n",
              "        [0.77992278]],\n",
              "\n",
              "       [[0.4980695 ],\n",
              "        [0.58108108],\n",
              "        [0.6042471 ],\n",
              "        [0.55405405],\n",
              "        [0.60810811],\n",
              "        [0.68918919],\n",
              "        [0.71042471],\n",
              "        [0.83204633],\n",
              "        [1.        ],\n",
              "        [0.96911197],\n",
              "        [0.77992278],\n",
              "        [0.68918919]],\n",
              "\n",
              "       [[0.58108108],\n",
              "        [0.6042471 ],\n",
              "        [0.55405405],\n",
              "        [0.60810811],\n",
              "        [0.68918919],\n",
              "        [0.71042471],\n",
              "        [0.83204633],\n",
              "        [1.        ],\n",
              "        [0.96911197],\n",
              "        [0.77992278],\n",
              "        [0.68918919],\n",
              "        [0.55212355]]])"
            ]
          },
          "metadata": {},
          "execution_count": 23
        }
      ]
    },
    {
      "cell_type": "code",
      "source": [
        "predicted_test_scaled = model.predict(X_test)"
      ],
      "metadata": {
        "colab": {
          "base_uri": "https://localhost:8080/"
        },
        "id": "mqIz0pwqUqsA",
        "outputId": "0fc9a33a-4391-4dcb-84ea-e58ebc08907c"
      },
      "execution_count": null,
      "outputs": [
        {
          "output_type": "stream",
          "name": "stdout",
          "text": [
            "\u001b[1m1/1\u001b[0m \u001b[32m━━━━━━━━━━━━━━━━━━━━\u001b[0m\u001b[37m\u001b[0m \u001b[1m0s\u001b[0m 256ms/step\n"
          ]
        }
      ]
    },
    {
      "cell_type": "code",
      "source": [
        "predicted_test_scaled"
      ],
      "metadata": {
        "colab": {
          "base_uri": "https://localhost:8080/"
        },
        "id": "4s6yyzxvUstJ",
        "outputId": "9909fe0a-3ed1-40f5-eac4-422c2240a6d9"
      },
      "execution_count": null,
      "outputs": [
        {
          "output_type": "execute_result",
          "data": {
            "text/plain": [
              "array([[0.5264692 ],\n",
              "       [0.51419115],\n",
              "       [0.6033412 ],\n",
              "       [0.59234655],\n",
              "       [0.6687137 ],\n",
              "       [0.7473586 ],\n",
              "       [0.844829  ],\n",
              "       [0.8768589 ],\n",
              "       [0.74026066],\n",
              "       [0.6379637 ],\n",
              "       [0.5654016 ],\n",
              "       [0.61323005]], dtype=float32)"
            ]
          },
          "metadata": {},
          "execution_count": 25
        }
      ]
    },
    {
      "cell_type": "code",
      "source": [
        "predicted_test = sc.inverse_transform(predicted_test_scaled)"
      ],
      "metadata": {
        "id": "9gAPnKhIUvs_"
      },
      "execution_count": null,
      "outputs": []
    },
    {
      "cell_type": "code",
      "source": [
        "predicted_test"
      ],
      "metadata": {
        "colab": {
          "base_uri": "https://localhost:8080/"
        },
        "id": "a5qwmdZUUxYY",
        "outputId": "5b3922c3-3d51-4698-e5d5-02f393605417"
      },
      "execution_count": null,
      "outputs": [
        {
          "output_type": "execute_result",
          "data": {
            "text/plain": [
              "array([[376.71103],\n",
              "       [370.35104],\n",
              "       [416.53076],\n",
              "       [410.8355 ],\n",
              "       [450.3937 ],\n",
              "       [491.13177],\n",
              "       [541.62146],\n",
              "       [558.2129 ],\n",
              "       [487.45505],\n",
              "       [434.4652 ],\n",
              "       [396.87805],\n",
              "       [421.65317]], dtype=float32)"
            ]
          },
          "metadata": {},
          "execution_count": 27
        }
      ]
    },
    {
      "cell_type": "code",
      "source": [
        "y_test"
      ],
      "metadata": {
        "colab": {
          "base_uri": "https://localhost:8080/"
        },
        "id": "zwzMIsL4U0ev",
        "outputId": "fa25c263-ff1e-4668-8e32-1e7faad08bc2"
      },
      "execution_count": null,
      "outputs": [
        {
          "output_type": "execute_result",
          "data": {
            "text/plain": [
              "array([0.6042471 , 0.55405405, 0.60810811, 0.68918919, 0.71042471,\n",
              "       0.83204633, 1.        , 0.96911197, 0.77992278, 0.68918919,\n",
              "       0.55212355, 0.63320463])"
            ]
          },
          "metadata": {},
          "execution_count": 28
        }
      ]
    },
    {
      "cell_type": "code",
      "source": [
        "# Inverse scale real test values\n",
        "real_test = sc.inverse_transform(y_test.reshape(-1, 1))"
      ],
      "metadata": {
        "id": "mD5z2yRJUgDR"
      },
      "execution_count": null,
      "outputs": []
    },
    {
      "cell_type": "code",
      "source": [
        "real_test"
      ],
      "metadata": {
        "colab": {
          "base_uri": "https://localhost:8080/"
        },
        "id": "244l1dvyU3Z4",
        "outputId": "3fef1bf2-4cbe-4749-8d77-1ff6eef4a6f9"
      },
      "execution_count": null,
      "outputs": [
        {
          "output_type": "execute_result",
          "data": {
            "text/plain": [
              "array([[417.],\n",
              "       [391.],\n",
              "       [419.],\n",
              "       [461.],\n",
              "       [472.],\n",
              "       [535.],\n",
              "       [622.],\n",
              "       [606.],\n",
              "       [508.],\n",
              "       [461.],\n",
              "       [390.],\n",
              "       [432.]])"
            ]
          },
          "metadata": {},
          "execution_count": 30
        }
      ]
    },
    {
      "cell_type": "markdown",
      "source": [
        "# Plot Real vs Predicted Values"
      ],
      "metadata": {
        "id": "U0kRdKD3U9kA"
      }
    },
    {
      "cell_type": "code",
      "source": [
        "test_dates = df.index[-12:]\n",
        "\n",
        "plt.figure(figsize=(10, 5))\n",
        "plt.plot(test_dates, real_test, marker='o', label='Actual Passengers')\n",
        "plt.plot(test_dates, predicted_test, marker='s', linestyle='--', label='Predicted Passengers')\n",
        "plt.title(\"✈️ Actual vs Predicted Airline Passengers (Last 12 Months)\")\n",
        "plt.xlabel(\"Month\")\n",
        "plt.ylabel(\"Passenger Count\")\n",
        "plt.grid(True)\n",
        "plt.legend()\n",
        "plt.show()"
      ],
      "metadata": {
        "colab": {
          "base_uri": "https://localhost:8080/",
          "height": 487
        },
        "id": "ytyxIHmsU4b6",
        "outputId": "b31964be-38af-4b1d-dc42-02efd609eeb0"
      },
      "execution_count": null,
      "outputs": [
        {
          "output_type": "display_data",
          "data": {
            "text/plain": [
              "<Figure size 1000x500 with 1 Axes>"
            ],
            "image/png": "[encoded data removed]"
          },
          "metadata": {}
        }
      ]
    },
    {
      "cell_type": "code",
      "source": [
        "from sklearn.metrics import mean_squared_error\n",
        "import math\n",
        "\n",
        "# ✅ Calculate RMSE\n",
        "rmse = math.sqrt(mean_squared_error(real_test, predicted_test))\n",
        "print(\"RMSE on Test Set (Last 12 Months):\", rmse)"
      ],
      "metadata": {
        "colab": {
          "base_uri": "https://localhost:8080/"
        },
        "id": "avk2EPyMWgqA",
        "outputId": "7da0f8c6-e550-473a-8b1a-8e9faf0615ff"
      },
      "execution_count": null,
      "outputs": [
        {
          "output_type": "stream",
          "name": "stdout",
          "text": [
            "RMSE on Test Set (Last 12 Months): 37.62565504467911\n"
          ]
        }
      ]
    },
    {
      "cell_type": "markdown",
      "source": [
        "# Predict the Next 12 Months (Future Forecast)"
      ],
      "metadata": {
        "id": "GTIaYf0GVgC4"
      }
    },
    {
      "cell_type": "code",
      "source": [
        "# Use the last 12 months of the entire dataset as input\n",
        "last_sequence = scaled_data[-12:].reshape(1, 12, 1)\n",
        "\n",
        "print(last_sequence)\n",
        "\n",
        "\n",
        "future_predictions_scaled = []\n",
        "\n",
        "c = 1\n",
        "for _ in range(12):  # Predict next 12 months\n",
        "    print('Month : ', c)\n",
        "    print('last_sequence')\n",
        "    print(last_sequence)\n",
        "    next_pred_scaled = model.predict(last_sequence)[0, 0]\n",
        "    print('next_pred_scaled')\n",
        "    print(next_pred_scaled)\n",
        "    future_predictions_scaled.append(next_pred_scaled)\n",
        "    print('future_predictions_scaled')\n",
        "    print(future_predictions_scaled)\n",
        "\n",
        "    # Update input sequence\n",
        "    new_input = np.append(last_sequence[0, 1:, 0], next_pred_scaled)\n",
        "    print('new_input')\n",
        "    print(new_input)\n",
        "    last_sequence = new_input.reshape(1, 12, 1)\n",
        "    print('last_sequence')\n",
        "    print(last_sequence)\n",
        "    c = c+1\n",
        "\n",
        "# Inverse scale the future predictions\n",
        "future_predictions = sc.inverse_transform(np.array(future_predictions_scaled).reshape(-1, 1))"
      ],
      "metadata": {
        "colab": {
          "base_uri": "https://localhost:8080/"
        },
        "id": "QYCnxPYJnYlo",
        "outputId": "3c0cfc36-76e0-4d5f-d138-0264f89d52c7"
      },
      "execution_count": null,
      "outputs": [
        {
          "output_type": "stream",
          "name": "stdout",
          "text": [
            "[[[0.6042471 ]\n",
            "  [0.55405405]\n",
            "  [0.60810811]\n",
            "  [0.68918919]\n",
            "  [0.71042471]\n",
            "  [0.83204633]\n",
            "  [1.        ]\n",
            "  [0.96911197]\n",
            "  [0.77992278]\n",
            "  [0.68918919]\n",
            "  [0.55212355]\n",
            "  [0.63320463]]]\n",
            "Month :  1\n",
            "last_sequence\n",
            "[[[0.6042471 ]\n",
            "  [0.55405405]\n",
            "  [0.60810811]\n",
            "  [0.68918919]\n",
            "  [0.71042471]\n",
            "  [0.83204633]\n",
            "  [1.        ]\n",
            "  [0.96911197]\n",
            "  [0.77992278]\n",
            "  [0.68918919]\n",
            "  [0.55212355]\n",
            "  [0.63320463]]]\n",
            "\u001b[1m1/1\u001b[0m \u001b[32m━━━━━━━━━━━━━━━━━━━━\u001b[0m\u001b[37m\u001b[0m \u001b[1m0s\u001b[0m 37ms/step\n",
            "next_pred_scaled\n",
            "0.58958495\n",
            "future_predictions_scaled\n",
            "[np.float32(0.58958495)]\n",
            "new_input\n",
            "[0.55405405 0.60810811 0.68918919 0.71042471 0.83204633 1.\n",
            " 0.96911197 0.77992278 0.68918919 0.55212355 0.63320463 0.58958495]\n",
            "last_sequence\n",
            "[[[0.55405405]\n",
            "  [0.60810811]\n",
            "  [0.68918919]\n",
            "  [0.71042471]\n",
            "  [0.83204633]\n",
            "  [1.        ]\n",
            "  [0.96911197]\n",
            "  [0.77992278]\n",
            "  [0.68918919]\n",
            "  [0.55212355]\n",
            "  [0.63320463]\n",
            "  [0.58958495]]]\n",
            "Month :  2\n",
            "last_sequence\n",
            "[[[0.55405405]\n",
            "  [0.60810811]\n",
            "  [0.68918919]\n",
            "  [0.71042471]\n",
            "  [0.83204633]\n",
            "  [1.        ]\n",
            "  [0.96911197]\n",
            "  [0.77992278]\n",
            "  [0.68918919]\n",
            "  [0.55212355]\n",
            "  [0.63320463]\n",
            "  [0.58958495]]]\n",
            "\u001b[1m1/1\u001b[0m \u001b[32m━━━━━━━━━━━━━━━━━━━━\u001b[0m\u001b[37m\u001b[0m \u001b[1m0s\u001b[0m 38ms/step\n",
            "next_pred_scaled\n",
            "0.594978\n",
            "future_predictions_scaled\n",
            "[np.float32(0.58958495), np.float32(0.594978)]\n",
            "new_input\n",
            "[0.60810811 0.68918919 0.71042471 0.83204633 1.         0.96911197\n",
            " 0.77992278 0.68918919 0.55212355 0.63320463 0.58958495 0.59497797]\n",
            "last_sequence\n",
            "[[[0.60810811]\n",
            "  [0.68918919]\n",
            "  [0.71042471]\n",
            "  [0.83204633]\n",
            "  [1.        ]\n",
            "  [0.96911197]\n",
            "  [0.77992278]\n",
            "  [0.68918919]\n",
            "  [0.55212355]\n",
            "  [0.63320463]\n",
            "  [0.58958495]\n",
            "  [0.59497797]]]\n",
            "Month :  3\n",
            "last_sequence\n",
            "[[[0.60810811]\n",
            "  [0.68918919]\n",
            "  [0.71042471]\n",
            "  [0.83204633]\n",
            "  [1.        ]\n",
            "  [0.96911197]\n",
            "  [0.77992278]\n",
            "  [0.68918919]\n",
            "  [0.55212355]\n",
            "  [0.63320463]\n",
            "  [0.58958495]\n",
            "  [0.59497797]]]\n",
            "\u001b[1m1/1\u001b[0m \u001b[32m━━━━━━━━━━━━━━━━━━━━\u001b[0m\u001b[37m\u001b[0m \u001b[1m0s\u001b[0m 34ms/step\n",
            "next_pred_scaled\n",
            "0.6018509\n",
            "future_predictions_scaled\n",
            "[np.float32(0.58958495), np.float32(0.594978), np.float32(0.6018509)]\n",
            "new_input\n",
            "[0.68918919 0.71042471 0.83204633 1.         0.96911197 0.77992278\n",
            " 0.68918919 0.55212355 0.63320463 0.58958495 0.59497797 0.60185093]\n",
            "last_sequence\n",
            "[[[0.68918919]\n",
            "  [0.71042471]\n",
            "  [0.83204633]\n",
            "  [1.        ]\n",
            "  [0.96911197]\n",
            "  [0.77992278]\n",
            "  [0.68918919]\n",
            "  [0.55212355]\n",
            "  [0.63320463]\n",
            "  [0.58958495]\n",
            "  [0.59497797]\n",
            "  [0.60185093]]]\n",
            "Month :  4\n",
            "last_sequence\n",
            "[[[0.68918919]\n",
            "  [0.71042471]\n",
            "  [0.83204633]\n",
            "  [1.        ]\n",
            "  [0.96911197]\n",
            "  [0.77992278]\n",
            "  [0.68918919]\n",
            "  [0.55212355]\n",
            "  [0.63320463]\n",
            "  [0.58958495]\n",
            "  [0.59497797]\n",
            "  [0.60185093]]]\n",
            "\u001b[1m1/1\u001b[0m \u001b[32m━━━━━━━━━━━━━━━━━━━━\u001b[0m\u001b[37m\u001b[0m \u001b[1m0s\u001b[0m 33ms/step\n",
            "next_pred_scaled\n",
            "0.6854186\n",
            "future_predictions_scaled\n",
            "[np.float32(0.58958495), np.float32(0.594978), np.float32(0.6018509), np.float32(0.6854186)]\n",
            "new_input\n",
            "[0.71042471 0.83204633 1.         0.96911197 0.77992278 0.68918919\n",
            " 0.55212355 0.63320463 0.58958495 0.59497797 0.60185093 0.68541861]\n",
            "last_sequence\n",
            "[[[0.71042471]\n",
            "  [0.83204633]\n",
            "  [1.        ]\n",
            "  [0.96911197]\n",
            "  [0.77992278]\n",
            "  [0.68918919]\n",
            "  [0.55212355]\n",
            "  [0.63320463]\n",
            "  [0.58958495]\n",
            "  [0.59497797]\n",
            "  [0.60185093]\n",
            "  [0.68541861]]]\n",
            "Month :  5\n",
            "last_sequence\n",
            "[[[0.71042471]\n",
            "  [0.83204633]\n",
            "  [1.        ]\n",
            "  [0.96911197]\n",
            "  [0.77992278]\n",
            "  [0.68918919]\n",
            "  [0.55212355]\n",
            "  [0.63320463]\n",
            "  [0.58958495]\n",
            "  [0.59497797]\n",
            "  [0.60185093]\n",
            "  [0.68541861]]]\n",
            "\u001b[1m1/1\u001b[0m \u001b[32m━━━━━━━━━━━━━━━━━━━━\u001b[0m\u001b[37m\u001b[0m \u001b[1m0s\u001b[0m 35ms/step\n",
            "next_pred_scaled\n",
            "0.7265997\n",
            "future_predictions_scaled\n",
            "[np.float32(0.58958495), np.float32(0.594978), np.float32(0.6018509), np.float32(0.6854186), np.float32(0.7265997)]\n",
            "new_input\n",
            "[0.83204633 1.         0.96911197 0.77992278 0.68918919 0.55212355\n",
            " 0.63320463 0.58958495 0.59497797 0.60185093 0.68541861 0.72659969]\n",
            "last_sequence\n",
            "[[[0.83204633]\n",
            "  [1.        ]\n",
            "  [0.96911197]\n",
            "  [0.77992278]\n",
            "  [0.68918919]\n",
            "  [0.55212355]\n",
            "  [0.63320463]\n",
            "  [0.58958495]\n",
            "  [0.59497797]\n",
            "  [0.60185093]\n",
            "  [0.68541861]\n",
            "  [0.72659969]]]\n",
            "Month :  6\n",
            "last_sequence\n",
            "[[[0.83204633]\n",
            "  [1.        ]\n",
            "  [0.96911197]\n",
            "  [0.77992278]\n",
            "  [0.68918919]\n",
            "  [0.55212355]\n",
            "  [0.63320463]\n",
            "  [0.58958495]\n",
            "  [0.59497797]\n",
            "  [0.60185093]\n",
            "  [0.68541861]\n",
            "  [0.72659969]]]\n",
            "\u001b[1m1/1\u001b[0m \u001b[32m━━━━━━━━━━━━━━━━━━━━\u001b[0m\u001b[37m\u001b[0m \u001b[1m0s\u001b[0m 35ms/step\n",
            "next_pred_scaled\n",
            "0.82853603\n",
            "future_predictions_scaled\n",
            "[np.float32(0.58958495), np.float32(0.594978), np.float32(0.6018509), np.float32(0.6854186), np.float32(0.7265997), np.float32(0.82853603)]\n",
            "new_input\n",
            "[1.         0.96911197 0.77992278 0.68918919 0.55212355 0.63320463\n",
            " 0.58958495 0.59497797 0.60185093 0.68541861 0.72659969 0.82853603]\n",
            "last_sequence\n",
            "[[[1.        ]\n",
            "  [0.96911197]\n",
            "  [0.77992278]\n",
            "  [0.68918919]\n",
            "  [0.55212355]\n",
            "  [0.63320463]\n",
            "  [0.58958495]\n",
            "  [0.59497797]\n",
            "  [0.60185093]\n",
            "  [0.68541861]\n",
            "  [0.72659969]\n",
            "  [0.82853603]]]\n",
            "Month :  7\n",
            "last_sequence\n",
            "[[[1.        ]\n",
            "  [0.96911197]\n",
            "  [0.77992278]\n",
            "  [0.68918919]\n",
            "  [0.55212355]\n",
            "  [0.63320463]\n",
            "  [0.58958495]\n",
            "  [0.59497797]\n",
            "  [0.60185093]\n",
            "  [0.68541861]\n",
            "  [0.72659969]\n",
            "  [0.82853603]]]\n",
            "\u001b[1m1/1\u001b[0m \u001b[32m━━━━━━━━━━━━━━━━━━━━\u001b[0m\u001b[37m\u001b[0m \u001b[1m0s\u001b[0m 53ms/step\n",
            "next_pred_scaled\n",
            "0.92549473\n",
            "future_predictions_scaled\n",
            "[np.float32(0.58958495), np.float32(0.594978), np.float32(0.6018509), np.float32(0.6854186), np.float32(0.7265997), np.float32(0.82853603), np.float32(0.92549473)]\n",
            "new_input\n",
            "[0.96911197 0.77992278 0.68918919 0.55212355 0.63320463 0.58958495\n",
            " 0.59497797 0.60185093 0.68541861 0.72659969 0.82853603 0.92549473]\n",
            "last_sequence\n",
            "[[[0.96911197]\n",
            "  [0.77992278]\n",
            "  [0.68918919]\n",
            "  [0.55212355]\n",
            "  [0.63320463]\n",
            "  [0.58958495]\n",
            "  [0.59497797]\n",
            "  [0.60185093]\n",
            "  [0.68541861]\n",
            "  [0.72659969]\n",
            "  [0.82853603]\n",
            "  [0.92549473]]]\n",
            "Month :  8\n",
            "last_sequence\n",
            "[[[0.96911197]\n",
            "  [0.77992278]\n",
            "  [0.68918919]\n",
            "  [0.55212355]\n",
            "  [0.63320463]\n",
            "  [0.58958495]\n",
            "  [0.59497797]\n",
            "  [0.60185093]\n",
            "  [0.68541861]\n",
            "  [0.72659969]\n",
            "  [0.82853603]\n",
            "  [0.92549473]]]\n",
            "\u001b[1m1/1\u001b[0m \u001b[32m━━━━━━━━━━━━━━━━━━━━\u001b[0m\u001b[37m\u001b[0m \u001b[1m0s\u001b[0m 51ms/step\n",
            "next_pred_scaled\n",
            "0.92243606\n",
            "future_predictions_scaled\n",
            "[np.float32(0.58958495), np.float32(0.594978), np.float32(0.6018509), np.float32(0.6854186), np.float32(0.7265997), np.float32(0.82853603), np.float32(0.92549473), np.float32(0.92243606)]\n",
            "new_input\n",
            "[0.77992278 0.68918919 0.55212355 0.63320463 0.58958495 0.59497797\n",
            " 0.60185093 0.68541861 0.72659969 0.82853603 0.92549473 0.92243606]\n",
            "last_sequence\n",
            "[[[0.77992278]\n",
            "  [0.68918919]\n",
            "  [0.55212355]\n",
            "  [0.63320463]\n",
            "  [0.58958495]\n",
            "  [0.59497797]\n",
            "  [0.60185093]\n",
            "  [0.68541861]\n",
            "  [0.72659969]\n",
            "  [0.82853603]\n",
            "  [0.92549473]\n",
            "  [0.92243606]]]\n",
            "Month :  9\n",
            "last_sequence\n",
            "[[[0.77992278]\n",
            "  [0.68918919]\n",
            "  [0.55212355]\n",
            "  [0.63320463]\n",
            "  [0.58958495]\n",
            "  [0.59497797]\n",
            "  [0.60185093]\n",
            "  [0.68541861]\n",
            "  [0.72659969]\n",
            "  [0.82853603]\n",
            "  [0.92549473]\n",
            "  [0.92243606]]]\n",
            "\u001b[1m1/1\u001b[0m \u001b[32m━━━━━━━━━━━━━━━━━━━━\u001b[0m\u001b[37m\u001b[0m \u001b[1m0s\u001b[0m 52ms/step\n",
            "next_pred_scaled\n",
            "0.79423463\n",
            "future_predictions_scaled\n",
            "[np.float32(0.58958495), np.float32(0.594978), np.float32(0.6018509), np.float32(0.6854186), np.float32(0.7265997), np.float32(0.82853603), np.float32(0.92549473), np.float32(0.92243606), np.float32(0.79423463)]\n",
            "new_input\n",
            "[0.68918919 0.55212355 0.63320463 0.58958495 0.59497797 0.60185093\n",
            " 0.68541861 0.72659969 0.82853603 0.92549473 0.92243606 0.79423463]\n",
            "last_sequence\n",
            "[[[0.68918919]\n",
            "  [0.55212355]\n",
            "  [0.63320463]\n",
            "  [0.58958495]\n",
            "  [0.59497797]\n",
            "  [0.60185093]\n",
            "  [0.68541861]\n",
            "  [0.72659969]\n",
            "  [0.82853603]\n",
            "  [0.92549473]\n",
            "  [0.92243606]\n",
            "  [0.79423463]]]\n",
            "Month :  10\n",
            "last_sequence\n",
            "[[[0.68918919]\n",
            "  [0.55212355]\n",
            "  [0.63320463]\n",
            "  [0.58958495]\n",
            "  [0.59497797]\n",
            "  [0.60185093]\n",
            "  [0.68541861]\n",
            "  [0.72659969]\n",
            "  [0.82853603]\n",
            "  [0.92549473]\n",
            "  [0.92243606]\n",
            "  [0.79423463]]]\n",
            "\u001b[1m1/1\u001b[0m \u001b[32m━━━━━━━━━━━━━━━━━━━━\u001b[0m\u001b[37m\u001b[0m \u001b[1m0s\u001b[0m 50ms/step\n",
            "next_pred_scaled\n",
            "0.7224737\n",
            "future_predictions_scaled\n",
            "[np.float32(0.58958495), np.float32(0.594978), np.float32(0.6018509), np.float32(0.6854186), np.float32(0.7265997), np.float32(0.82853603), np.float32(0.92549473), np.float32(0.92243606), np.float32(0.79423463), np.float32(0.7224737)]\n",
            "new_input\n",
            "[0.55212355 0.63320463 0.58958495 0.59497797 0.60185093 0.68541861\n",
            " 0.72659969 0.82853603 0.92549473 0.92243606 0.79423463 0.72247368]\n",
            "last_sequence\n",
            "[[[0.55212355]\n",
            "  [0.63320463]\n",
            "  [0.58958495]\n",
            "  [0.59497797]\n",
            "  [0.60185093]\n",
            "  [0.68541861]\n",
            "  [0.72659969]\n",
            "  [0.82853603]\n",
            "  [0.92549473]\n",
            "  [0.92243606]\n",
            "  [0.79423463]\n",
            "  [0.72247368]]]\n",
            "Month :  11\n",
            "last_sequence\n",
            "[[[0.55212355]\n",
            "  [0.63320463]\n",
            "  [0.58958495]\n",
            "  [0.59497797]\n",
            "  [0.60185093]\n",
            "  [0.68541861]\n",
            "  [0.72659969]\n",
            "  [0.82853603]\n",
            "  [0.92549473]\n",
            "  [0.92243606]\n",
            "  [0.79423463]\n",
            "  [0.72247368]]]\n",
            "\u001b[1m1/1\u001b[0m \u001b[32m━━━━━━━━━━━━━━━━━━━━\u001b[0m\u001b[37m\u001b[0m \u001b[1m0s\u001b[0m 52ms/step\n",
            "next_pred_scaled\n",
            "0.60637003\n",
            "future_predictions_scaled\n",
            "[np.float32(0.58958495), np.float32(0.594978), np.float32(0.6018509), np.float32(0.6854186), np.float32(0.7265997), np.float32(0.82853603), np.float32(0.92549473), np.float32(0.92243606), np.float32(0.79423463), np.float32(0.7224737), np.float32(0.60637003)]\n",
            "new_input\n",
            "[0.63320463 0.58958495 0.59497797 0.60185093 0.68541861 0.72659969\n",
            " 0.82853603 0.92549473 0.92243606 0.79423463 0.72247368 0.60637003]\n",
            "last_sequence\n",
            "[[[0.63320463]\n",
            "  [0.58958495]\n",
            "  [0.59497797]\n",
            "  [0.60185093]\n",
            "  [0.68541861]\n",
            "  [0.72659969]\n",
            "  [0.82853603]\n",
            "  [0.92549473]\n",
            "  [0.92243606]\n",
            "  [0.79423463]\n",
            "  [0.72247368]\n",
            "  [0.60637003]]]\n",
            "Month :  12\n",
            "last_sequence\n",
            "[[[0.63320463]\n",
            "  [0.58958495]\n",
            "  [0.59497797]\n",
            "  [0.60185093]\n",
            "  [0.68541861]\n",
            "  [0.72659969]\n",
            "  [0.82853603]\n",
            "  [0.92549473]\n",
            "  [0.92243606]\n",
            "  [0.79423463]\n",
            "  [0.72247368]\n",
            "  [0.60637003]]]\n",
            "\u001b[1m1/1\u001b[0m \u001b[32m━━━━━━━━━━━━━━━━━━━━\u001b[0m\u001b[37m\u001b[0m \u001b[1m0s\u001b[0m 51ms/step\n",
            "next_pred_scaled\n",
            "0.6606808\n",
            "future_predictions_scaled\n",
            "[np.float32(0.58958495), np.float32(0.594978), np.float32(0.6018509), np.float32(0.6854186), np.float32(0.7265997), np.float32(0.82853603), np.float32(0.92549473), np.float32(0.92243606), np.float32(0.79423463), np.float32(0.7224737), np.float32(0.60637003), np.float32(0.6606808)]\n",
            "new_input\n",
            "[0.58958495 0.59497797 0.60185093 0.68541861 0.72659969 0.82853603\n",
            " 0.92549473 0.92243606 0.79423463 0.72247368 0.60637003 0.66068077]\n",
            "last_sequence\n",
            "[[[0.58958495]\n",
            "  [0.59497797]\n",
            "  [0.60185093]\n",
            "  [0.68541861]\n",
            "  [0.72659969]\n",
            "  [0.82853603]\n",
            "  [0.92549473]\n",
            "  [0.92243606]\n",
            "  [0.79423463]\n",
            "  [0.72247368]\n",
            "  [0.60637003]\n",
            "  [0.66068077]]]\n"
          ]
        }
      ]
    },
    {
      "cell_type": "code",
      "source": [
        "# Use the last 12 months of the entire dataset as input\n",
        "last_sequence = scaled_data[-12:].reshape(1, 12, 1)\n",
        "\n",
        "# print(last_sequence)\n",
        "\n",
        "future_predictions_scaled = []\n",
        "\n",
        "for _ in range(12):  # Predict next 12 months\n",
        "    next_pred_scaled = model.predict(last_sequence)[0, 0]\n",
        "    future_predictions_scaled.append(next_pred_scaled)\n",
        "\n",
        "    # Update input sequence\n",
        "    new_input = np.append(last_sequence[0, 1:, 0], next_pred_scaled)\n",
        "    last_sequence = new_input.reshape(1, 12, 1)\n",
        "\n",
        "# Inverse scale the future predictions\n",
        "future_predictions = sc.inverse_transform(np.array(future_predictions_scaled).reshape(-1, 1))"
      ],
      "metadata": {
        "colab": {
          "base_uri": "https://localhost:8080/"
        },
        "id": "T0oxeuUrVGNw",
        "outputId": "24a65176-a874-4853-c1a0-b0d0e067ebef"
      },
      "execution_count": null,
      "outputs": [
        {
          "output_type": "stream",
          "name": "stdout",
          "text": [
            "\u001b[1m1/1\u001b[0m \u001b[32m━━━━━━━━━━━━━━━━━━━━\u001b[0m\u001b[37m\u001b[0m \u001b[1m0s\u001b[0m 110ms/step\n",
            "\u001b[1m1/1\u001b[0m \u001b[32m━━━━━━━━━━━━━━━━━━━━\u001b[0m\u001b[37m\u001b[0m \u001b[1m0s\u001b[0m 64ms/step\n",
            "\u001b[1m1/1\u001b[0m \u001b[32m━━━━━━━━━━━━━━━━━━━━\u001b[0m\u001b[37m\u001b[0m \u001b[1m0s\u001b[0m 49ms/step\n",
            "\u001b[1m1/1\u001b[0m \u001b[32m━━━━━━━━━━━━━━━━━━━━\u001b[0m\u001b[37m\u001b[0m \u001b[1m0s\u001b[0m 37ms/step\n",
            "\u001b[1m1/1\u001b[0m \u001b[32m━━━━━━━━━━━━━━━━━━━━\u001b[0m\u001b[37m\u001b[0m \u001b[1m0s\u001b[0m 35ms/step\n",
            "\u001b[1m1/1\u001b[0m \u001b[32m━━━━━━━━━━━━━━━━━━━━\u001b[0m\u001b[37m\u001b[0m \u001b[1m0s\u001b[0m 36ms/step\n",
            "\u001b[1m1/1\u001b[0m \u001b[32m━━━━━━━━━━━━━━━━━━━━\u001b[0m\u001b[37m\u001b[0m \u001b[1m0s\u001b[0m 38ms/step\n",
            "\u001b[1m1/1\u001b[0m \u001b[32m━━━━━━━━━━━━━━━━━━━━\u001b[0m\u001b[37m\u001b[0m \u001b[1m0s\u001b[0m 35ms/step\n",
            "\u001b[1m1/1\u001b[0m \u001b[32m━━━━━━━━━━━━━━━━━━━━\u001b[0m\u001b[37m\u001b[0m \u001b[1m0s\u001b[0m 36ms/step\n",
            "\u001b[1m1/1\u001b[0m \u001b[32m━━━━━━━━━━━━━━━━━━━━\u001b[0m\u001b[37m\u001b[0m \u001b[1m0s\u001b[0m 38ms/step\n",
            "\u001b[1m1/1\u001b[0m \u001b[32m━━━━━━━━━━━━━━━━━━━━\u001b[0m\u001b[37m\u001b[0m \u001b[1m0s\u001b[0m 35ms/step\n",
            "\u001b[1m1/1\u001b[0m \u001b[32m━━━━━━━━━━━━━━━━━━━━\u001b[0m\u001b[37m\u001b[0m \u001b[1m0s\u001b[0m 38ms/step\n"
          ]
        }
      ]
    },
    {
      "cell_type": "code",
      "source": [
        "future_predictions"
      ],
      "metadata": {
        "colab": {
          "base_uri": "https://localhost:8080/"
        },
        "id": "LnXqLSupVp_o",
        "outputId": "280c9d95-bc92-471c-c53e-8d6a463cf022"
      },
      "execution_count": null,
      "outputs": [
        {
          "output_type": "execute_result",
          "data": {
            "text/plain": [
              "array([[429.58118],\n",
              "       [398.5156 ],\n",
              "       [409.57907],\n",
              "       [435.85577],\n",
              "       [474.6893 ],\n",
              "       [520.2378 ],\n",
              "       [595.42676],\n",
              "       [585.1128 ],\n",
              "       [527.1404 ],\n",
              "       [468.44177],\n",
              "       [414.5456 ],\n",
              "       [433.13586]], dtype=float32)"
            ]
          },
          "metadata": {},
          "execution_count": 37
        }
      ]
    },
    {
      "cell_type": "markdown",
      "source": [
        "# Plot Original + Future 12 Month Predictions"
      ],
      "metadata": {
        "id": "4r34R3s4Vr3Q"
      }
    },
    {
      "cell_type": "code",
      "source": [
        "future_dates = pd.date_range(start=df.index[-1] + pd.DateOffset(months=1), periods=12, freq='MS')"
      ],
      "metadata": {
        "id": "lZeP2s3ppOza"
      },
      "execution_count": null,
      "outputs": []
    },
    {
      "cell_type": "code",
      "source": [
        "future_dates"
      ],
      "metadata": {
        "colab": {
          "base_uri": "https://localhost:8080/"
        },
        "id": "k7_SvDGVpQTC",
        "outputId": "e76d705b-5c02-4707-fa6e-58b6153cb04d"
      },
      "execution_count": null,
      "outputs": [
        {
          "output_type": "execute_result",
          "data": {
            "text/plain": [
              "DatetimeIndex(['1961-01-01', '1961-02-01', '1961-03-01', '1961-04-01',\n",
              "               '1961-05-01', '1961-06-01', '1961-07-01', '1961-08-01',\n",
              "               '1961-09-01', '1961-10-01', '1961-11-01', '1961-12-01'],\n",
              "              dtype='datetime64[ns]', freq='MS')"
            ]
          },
          "metadata": {},
          "execution_count": 42
        }
      ]
    },
    {
      "cell_type": "code",
      "source": [
        "# Create future date index (after last date in dataset)\n",
        "future_dates = pd.date_range(start=df.index[-1] + pd.DateOffset(months=1), periods=12, freq='MS')\n",
        "\n",
        "# Plot full data + future\n",
        "plt.figure(figsize=(12, 6))\n",
        "plt.plot(df.index, df['Passengers'], label='Actual Data')\n",
        "plt.plot(future_dates, future_predictions, label='Future Forecast (Next 12 Months)', linestyle='--', marker='o')\n",
        "plt.title(\"Airline Passenger Forecast | Future 12 Months\")\n",
        "plt.xlabel(\"Time\")\n",
        "plt.ylabel(\"Passenger Count\")\n",
        "plt.grid(True)\n",
        "plt.legend()\n",
        "plt.show()"
      ],
      "metadata": {
        "colab": {
          "base_uri": "https://localhost:8080/",
          "height": 471
        },
        "id": "c87wmWwrVoRg",
        "outputId": "3ea12a4c-d305-44d2-d894-8539180e688b"
      },
      "execution_count": null,
      "outputs": [
        {
          "output_type": "display_data",
          "data": {
            "text/plain": [
              "<Figure size 1200x600 with 1 Axes>"
            ],
            "image/png": "[encoded data removed]"
          },
          "metadata": {}
        }
      ]
    }
  ]
}